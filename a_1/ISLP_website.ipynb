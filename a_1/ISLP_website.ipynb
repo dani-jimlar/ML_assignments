{
 "cells": [
  {
   "cell_type": "markdown",
   "metadata": {},
   "source": [
    "# Assignment 1 - Probability, Linear Algebra, & Computational Programming"
   ]
  },
  {
   "cell_type": "markdown",
   "metadata": {},
   "source": [
    "Version 2: Updated 1/14/24 (Question 4 revised)"
   ]
  },
  {
   "cell_type": "markdown",
   "metadata": {},
   "source": [
    "## *Daniela Jimenez Lara*\n",
    "Netid: dj216\n",
    "\n",
    "*Names of students you worked with on this assignment*: LIST HERE IF APPLICABLE (delete if not)\n",
    "\n",
    "Note: this assignment falls under collaboration Mode 2: Individual Assignment – Collaboration Permitted. Please refer to the syllabus for additional information."
   ]
  },
  {
   "cell_type": "markdown",
   "metadata": {},
   "source": [
    "Instructions for all assignments can be found [here](https://kylebradbury.github.io/ids705/notebooks/assignment_instructions.html), and are also linked to from the course syllabus.\n",
    "\n",
    "Total points in the assignment add up to 90; an additional 10 points are allocated to professionalism and presentation quality."
   ]
  },
  {
   "attachments": {},
   "cell_type": "markdown",
   "metadata": {},
   "source": [
    "#  Learning Objectives\n",
    "The purpose of this assignment is to provide a refresher on fundamental concepts that we will use throughout this course and provide an opportunity to develop skills in any of the related skills that may be unfamiliar to you. Through the course of completing this assignment, you will... \n",
    "\n",
    "- Refresh you knowledge of probability theory including properties of random variables, probability density functions,  cumulative distribution functions, and key statistics such as mean and variance.\n",
    "- Revisit common linear algebra and matrix operations and concepts such as matrix multiplication, inner and outer products, inverses, the Hadamard (element-wise) product, eigenvalues and eigenvectors, orthogonality, and symmetry.\n",
    "- Practice numerical programming, core to machine learning, by loading and filtering data, plotting data, vectorizing operations, profiling code speed, and debugging and optimizing performance. You will also practice computing probabilities based on simulation.\n",
    "- Develop or refresh your knowledge of Git version control, which will be a core tool used in the final project of this course\n",
    "- Apply your skills altogether through an exploratory data analysis to practice data cleaning, data manipulation, interpretation, and communication \n",
    "\n",
    "We will build on these concepts throughout the course, so use this assignment as a catalyst to deepen your knowledge and seek help with anything unfamiliar.\n",
    "\n",
    "If some references would be helpful on these topics, I would recommend the following resources:\n",
    "- [Mathematics for Machine Learning](https://mml-book.github.io/book/mml-book.pdf) by Deisenroth, Faisal, and Ong\n",
    "- [Deep Learning](https://www.deeplearningbook.org/); Part I: Applied Math and Machine Learning Basics by Goodfellow, Bengio, and Courville\n",
    "- [The Matrix Calculus You Need For Deep Learning](https://arxiv.org/pdf/1802.01528.pdf) by Parr and Howard\n",
    "- [Dive Into Deep Learning](https://d2l.ai/chapter_appendix-mathematics-for-deep-learning/index.html); Appendix: Mathematics for Deep Learning by Weness, Hu, et al.\n",
    "\n",
    "*Note: don't worry if you don't understand everything in the references above - some of these books dive into significant minutia of each of these topics.*"
   ]
  },
  {
   "attachments": {},
   "cell_type": "markdown",
   "metadata": {},
   "source": [
    "---\n",
    "\n",
    "# Probability and Statistics Theory"
   ]
  },
  {
   "attachments": {},
   "cell_type": "markdown",
   "metadata": {},
   "source": [
    "*Note: for all assignments, write out equations and math using markdown and [LaTeX](https://tobi.oetiker.ch/lshort/lshort.pdf). I recommend that you complete the work on paper before typing up the final version. For this assignment show your math for questions 1-4, meaning that you should include any intermediate steps necessary to understand the logic of your solution. Most can be completed in 3-4 steps. Being proficient in expressing yourself clearly, sometimes mathematically, is a valuable skill to have as a data scientist*"
   ]
  },
  {
   "attachments": {},
   "cell_type": "markdown",
   "metadata": {},
   "source": [
    "## 1\n",
    "**[3 points]**  \n",
    "Let $f(x) = \\begin{cases}\n",
    "                0           & x < 0  \\\\\n",
    "                \\alpha x^2  & 0 \\leq x \\leq 2 \\\\\n",
    "                0           & 2 < x\n",
    "            \\end{cases}$\n",
    "            \n",
    "For what value of $\\alpha$ is $f(x)$ a valid probability density function?"
   ]
  },
  {
   "cell_type": "markdown",
   "metadata": {},
   "source": [
    "**ANSWER**"
   ]
  },
  {
   "attachments": {},
   "cell_type": "markdown",
   "metadata": {},
   "source": [
    "---\n",
    "\n",
    "## 2\n",
    "**[3 points]** What is the cumulative distribution function (CDF) that corresponds to the following probability distribution function? Please state the value of the CDF for all possible values of $x$.\n",
    "\n",
    "$f(x) = \\begin{cases}\n",
    "    \\frac{1}{3} & 0 < x < 3 \\\\\n",
    "    0           & \\text{otherwise}\n",
    "    \\end{cases}$"
   ]
  },
  {
   "cell_type": "markdown",
   "metadata": {},
   "source": [
    "**ANSWER**"
   ]
  },
  {
   "attachments": {},
   "cell_type": "markdown",
   "metadata": {},
   "source": [
    "---\n",
    "\n",
    "## 3\n",
    "**[6 points]** For the probability distribution function for the random variable $X$,\n",
    "\n",
    "$f(x) = \\begin{cases}\n",
    "    \\frac{1}{3} & 0 < x < 3 \\\\\n",
    "    0           & \\text{otherwise}\n",
    "    \\end{cases}$\n",
    "    \n",
    "what is the (a) expected value and (b) variance of $X$. *Show all work*."
   ]
  },
  {
   "cell_type": "markdown",
   "metadata": {},
   "source": [
    "**ANSWER**"
   ]
  },
  {
   "cell_type": "markdown",
   "metadata": {},
   "source": [
    "## 4\n",
    "**[6 points]** \n",
    "You are given the training data below and asked to determine the probability that a sample of $x=0.54$ comes from class 1, or equivalently, $P(Y=1|X=0.54)$. The feature, $x$, can take on real values between 0 and 1.\n",
    "\n",
    "| $x$ value range | Negative data samples ($x$,$y=0$) | Positive data samples ($x$,$y=1$) |\n",
    "| -- | -- | -- |\n",
    "| 0.0 - 0.1 | (0.05,0),(0.07,0)|   None   |\n",
    "| 0.1 - 0.2 | (0.11,0),(0.13,0),(0.19,0) | (0.14,1) |\n",
    "| 0.2 - 0.3 | (0.23,0) | (0.24,1) |\n",
    "| 0.3 - 0.4 | (0.35,0), (0.37,0)| (0.32,1) |\n",
    "| 0.4 - 0.5 | (0.49,0) | (0.47,1) |\n",
    "| 0.5 - 0.6 | (0.51,0) | (0.53,1) |\n",
    "| 0.6 - 0.7 |   None   | (0.61,1) |\n",
    "| 0.7 - 0.8 |   None   | (0.77,1) |\n",
    "| 0.8 - 0.9 |   None   | (0.83,1) |\n",
    "| 0.9 - 1.0 |   None   | (0.92,1),(0.98,1) |\n",
    "\n",
    "Note: *You don't need to use these data directly*, but this provides an example of how the data could be distributed to form the empirical likelihoods and priors shown below.\n",
    "\n",
    "You're likely familiar with Bayes' Rule, which for discrete random variables states that:"
   ]
  },
  {
   "cell_type": "markdown",
   "metadata": {},
   "source": [
    "\\begin{equation*}\n",
    "P(Y|X)= \\frac{P(X|Y)P(Y)}{P(X)}\n",
    "\\end{equation*}"
   ]
  },
  {
   "cell_type": "markdown",
   "metadata": {},
   "source": [
    "Additionally, $P(X) = \\sum_y P(X|Y=y)P(Y=y)$"
   ]
  },
  {
   "cell_type": "markdown",
   "metadata": {},
   "source": [
    "In our case, however, the variable Y is discrete but the variable X is continuous, so we express this function a bit differently. We can compute the poster probability, $P(Y|X)$, based on the likelihood function of the data conditioned on the class of the samples, $f_{X|Y}(x,y)$, the prior $P(Y)$ which is essentially the distribution of the class labels across all the data, and the evidence $f_X(x)$ which is the probability distribution function of the features, $X$, regardless of class labels:"
   ]
  },
  {
   "cell_type": "markdown",
   "metadata": {},
   "source": [
    "\n",
    "\\begin{equation*}\n",
    "P(Y=y|X=x)= \\frac{f_{X|Y}(x,y)P(Y=y)}{f_X(x)}\n",
    "\\end{equation*}"
   ]
  },
  {
   "cell_type": "markdown",
   "metadata": {},
   "source": [
    "Also, note that $f_X(x)$ can be computed in this case (due to the discrete Y values of 0 and 1) as:"
   ]
  },
  {
   "cell_type": "markdown",
   "metadata": {},
   "source": [
    "\\begin{equation*}\n",
    "f_X(x) = f_{X|Y}(x,y=0)P(Y=0) + f_{X|Y}(x,y=1)P(Y=1)\n",
    "\\end{equation*}"
   ]
  },
  {
   "cell_type": "markdown",
   "metadata": {},
   "source": [
    "Below are the prior and the likelihood functions based on the dataset above. Note that here we use $P(\\cdot)$ to note a probability and $f(\\cdot)$ to note a probability distribution function."
   ]
  },
  {
   "cell_type": "markdown",
   "metadata": {},
   "source": [
    "<img src=\"img/a1_py.png\" width=400>"
   ]
  },
  {
   "cell_type": "markdown",
   "metadata": {},
   "source": [
    "<img src=\"img/a1_pxy.png\"  width=\"600\">"
   ]
  },
  {
   "cell_type": "markdown",
   "metadata": {},
   "source": [
    "1. What is $f_{X|Y}(x=0.54,y=1)P(Y=1)$?\n",
    "2. What is $f_X(x=0.54)$?\n",
    "3. What is $P(Y=1|X=0.54)$?"
   ]
  },
  {
   "cell_type": "markdown",
   "metadata": {},
   "source": [
    "*Show each value you use for each computation.*"
   ]
  },
  {
   "cell_type": "markdown",
   "metadata": {},
   "source": [
    "**ANSWER**"
   ]
  },
  {
   "attachments": {},
   "cell_type": "markdown",
   "metadata": {},
   "source": [
    "---\n",
    "\n",
    "# Linear Algebra"
   ]
  },
  {
   "attachments": {},
   "cell_type": "markdown",
   "metadata": {},
   "source": [
    "# 5\n",
    "\n",
    "**[5 points]** A common task in machine learning is a change of basis: transforming the representation of our data from one space to another. A prime example of this is through the process of dimensionality reduction as in Principle Components Analysis where we often seek to transform our data from one space (of dimension $n$) to a new space (of dimension $m$) where $m<n$. Assume we have a sample of data of dimension $n=4$ (as shown below) and we want to transform it into a dimension of $m=2$.\n",
    "\n",
    "$\\mathbf{x} =  \\begin{bmatrix}\n",
    "x_1 \\\\\n",
    "x_2 \\\\\n",
    "x_3 \\\\\n",
    "x_4 \n",
    "\\end{bmatrix}$"
   ]
  },
  {
   "attachments": {},
   "cell_type": "markdown",
   "metadata": {},
   "source": [
    "(a) What are the dimensions of a matrix, $\\mathbf{A}$, that would linearly transform our sample of data, $\\mathbf{x}$, into a space of $m=2$ through the operation $\\mathbf{Ax}$?\n",
    "\n",
    "(b) Express this transformation in terms of the components of $\\mathbf{x}$: $x_1$, $x_2$, $x_3$, $x_4$ and the matrix $\\mathbf{A}$ where each entry in the matrix is denoted as $a_{i,j}$ (e.g. the entry in the first row and second column would be $a_{1,2}$). Your answer will be in the form of a matrix expressing result of the product $\\mathbf{Ax}$.\n",
    "\n",
    "*Note: please write your answers here in LaTeX*"
   ]
  },
  {
   "cell_type": "markdown",
   "metadata": {},
   "source": [
    "(a) the dimensions of matrix  $\\mathbf{A}$ would be 4 by 2\n",
    "\n",
    "(b)\n",
    "$\\mathbf{A} =  \\begin{bmatrix}\n",
    "a_{11}  & a_{12}  & a_{13}  & a_{14}  \\\\\n",
    "a_{21}  & a_{22}  & a_{23}  & a_{24}  \\\\\n",
    "\\end{bmatrix}$, $\\mathbf{x} =  \\begin{bmatrix}\n",
    "x_1 \\\\\n",
    "x_2 \\\\\n",
    "x_3 \\\\\n",
    "x_4 \n",
    "\\end{bmatrix}$\n",
    "\n"
   ]
  },
  {
   "cell_type": "markdown",
   "metadata": {},
   "source": [
    "\n",
    "\n",
    "$\\mathbf{A_x} = \\begin{bmatrix}\n",
    "x_1a_{11} & + x_1a_{12} & + x_1a_{13} & + x_1a_{14} \\\\\n",
    "x_2a_{21} & + x_2a_{22} & + x_2a_{23} & + x_2a_{24} \n",
    "\\end{bmatrix}$\n",
    "\n",
    "\n"
   ]
  },
  {
   "attachments": {},
   "cell_type": "markdown",
   "metadata": {},
   "source": [
    "**ANSWER**"
   ]
  },
  {
   "attachments": {},
   "cell_type": "markdown",
   "metadata": {},
   "source": [
    "---\n",
    "\n",
    "## 6\n",
    "**[14 points]** **Matrix manipulations and multiplication**. Machine learning involves working with many matrices, so this exercise will provide you with the opportunity to practice those skills.\n",
    "\n",
    "Let\n",
    "$\\mathbf{A} =  \\begin{bmatrix}\n",
    "1 & 2 & 3 \\\\\n",
    "2 & 4 & 5 \\\\\n",
    "3 & 5 & 6 \n",
    "\\end{bmatrix}$, $\\mathbf{b} =  \\begin{bmatrix}\n",
    "-1  \\\\\n",
    "3  \\\\\n",
    "8  \n",
    "\\end{bmatrix}$, $\\mathbf{c} =  \\begin{bmatrix}\n",
    "4  \\\\\n",
    "-3  \\\\\n",
    "6  \n",
    "\\end{bmatrix}$, and $\\mathbf{I} =  \\begin{bmatrix}\n",
    "1 & 0 & 0 \\\\\n",
    "0 & 1 & 0 \\\\\n",
    "0 & 0 & 1 \n",
    "\\end{bmatrix}$\n",
    "\n",
    "Compute the following **using Python** or indicate that it cannot be computed. Refer to NumPy's tools for handling matrices. While all answers should be computer using Python, your response to whether each item can be computed should refer to underlying linear algebra. There may be circumstances when Python will produce an output, but based on the dimensions of the matrices involved, the linear algebra operation is not possible. **For the case when an operation is invalid, explain why it is not.**\n",
    "\n",
    "When the quantity can be computed, please provide both the Python code AND the output of that code (this need not be in LaTex)\n",
    "\n",
    "1. $\\mathbf{A}\\mathbf{A}$\n",
    "2. $\\mathbf{A}\\mathbf{A}^T$\n",
    "3. $\\mathbf{A}\\mathbf{b}$\n",
    "4. $\\mathbf{A}\\mathbf{b}^T$\n",
    "5. $\\mathbf{b}\\mathbf{A}$\n",
    "6. $\\mathbf{b}^T\\mathbf{A}$\n",
    "7. $\\mathbf{b}\\mathbf{b}$\n",
    "8. $\\mathbf{b}^T\\mathbf{b}$\n",
    "9. $\\mathbf{b}\\mathbf{b}^T$\n",
    "10. $\\mathbf{b} + \\mathbf{c}^T$\n",
    "11. $\\mathbf{b}^T\\mathbf{b}^T$\n",
    "12. $\\mathbf{A}^{-1}\\mathbf{b}$\n",
    "13. $\\mathbf{A}\\circ\\mathbf{A}$\n",
    "14. $\\mathbf{b}\\circ\\mathbf{c}$\n",
    "\n",
    "*Note: The element-wise (or Hadamard) product is the product of each element in one matrix with the corresponding element in another matrix, and is represented by the symbol \"$\\circ$\".*"
   ]
  },
  {
   "cell_type": "markdown",
   "metadata": {},
   "source": [
    "**ANSWER**"
   ]
  },
  {
   "cell_type": "code",
   "execution_count": 34,
   "metadata": {},
   "outputs": [],
   "source": [
    "import numpy as np\n",
    "from numpy.linalg import inv\n",
    "\n",
    "A = np.array([(1, 2, 4), (2, 4, 5), (3, 5, 6)])\n",
    "At = A.T\n",
    "Ainv = inv(A)\n",
    "B = np.array([[-1], [3], [8]])\n",
    "Bt = B.T\n",
    "C = np.array([[4], [-3], [6]])\n",
    "Ct = C.T\n",
    "I = np.array([(1, 0, 0), (0, 1, 0), (0, 0, 1)])"
   ]
  },
  {
   "cell_type": "markdown",
   "metadata": {},
   "source": [
    "- 1. $\\mathbf{A}\\mathbf{A}$ is posible to compute because both matrixes are the same and hence the first one has the same number of columns as the second has rows. \n"
   ]
  },
  {
   "cell_type": "code",
   "execution_count": 65,
   "metadata": {},
   "outputs": [
    {
     "data": {
      "text/plain": [
       "array([[17, 30, 38],\n",
       "       [25, 45, 58],\n",
       "       [31, 56, 73]])"
      ]
     },
     "execution_count": 65,
     "metadata": {},
     "output_type": "execute_result"
    }
   ],
   "source": [
    "A @ A"
   ]
  },
  {
   "cell_type": "markdown",
   "metadata": {},
   "source": [
    "- 2. $\\mathbf{A}\\mathbf{A}^T$ is posible to compute because the transposed matrix has the same dimensions as the original matrix, hence, the first one has the same number of columns as the second has rows. \n"
   ]
  },
  {
   "cell_type": "code",
   "execution_count": 26,
   "metadata": {},
   "outputs": [
    {
     "data": {
      "text/plain": [
       "array([[21, 30, 37],\n",
       "       [30, 45, 56],\n",
       "       [37, 56, 70]])"
      ]
     },
     "execution_count": 26,
     "metadata": {},
     "output_type": "execute_result"
    }
   ],
   "source": [
    "A @ At"
   ]
  },
  {
   "cell_type": "markdown",
   "metadata": {},
   "source": [
    "- 3. $\\mathbf{A}\\mathbf{b}$ is posible to compute as the first matrix has the same number of columns as the second has rows. \n"
   ]
  },
  {
   "cell_type": "code",
   "execution_count": 27,
   "metadata": {},
   "outputs": [
    {
     "data": {
      "text/plain": [
       "array([37, 50, 60])"
      ]
     },
     "execution_count": 27,
     "metadata": {},
     "output_type": "execute_result"
    }
   ],
   "source": [
    "A @ B"
   ]
  },
  {
   "cell_type": "markdown",
   "metadata": {},
   "source": [
    "- 4. $\\mathbf{A}\\mathbf{b}^T$ the operation is invalid as the first matrix has a different number of columns as the second one has rows.\n"
   ]
  },
  {
   "cell_type": "markdown",
   "metadata": {},
   "source": [
    "- 5. $\\mathbf{b}\\mathbf{A}$ the operation is invalid as the first matrix has a different number of columns as the second one has rows\n"
   ]
  },
  {
   "cell_type": "markdown",
   "metadata": {},
   "source": [
    "- 6. $\\mathbf{b}^T\\mathbf{A}$ the operation is valid as the first matrix has the same number of columns as the second one has rows\n"
   ]
  },
  {
   "cell_type": "code",
   "execution_count": 28,
   "metadata": {},
   "outputs": [
    {
     "data": {
      "text/plain": [
       "array([29, 50, 59])"
      ]
     },
     "execution_count": 28,
     "metadata": {},
     "output_type": "execute_result"
    }
   ],
   "source": [
    "Bt @ A"
   ]
  },
  {
   "cell_type": "markdown",
   "metadata": {},
   "source": [
    "- 7. $\\mathbf{b}\\mathbf{b}$ the operation is invalid as the first matrix has a different number of columns than the second one has rows\n",
    "\n"
   ]
  },
  {
   "cell_type": "markdown",
   "metadata": {},
   "source": [
    "- 8. $\\mathbf{b}^T\\mathbf{b}$ the operation is valid as the first matrix has the same number of columns than the second one has rows"
   ]
  },
  {
   "cell_type": "code",
   "execution_count": 57,
   "metadata": {},
   "outputs": [
    {
     "data": {
      "text/plain": [
       "array([[74]])"
      ]
     },
     "execution_count": 57,
     "metadata": {},
     "output_type": "execute_result"
    }
   ],
   "source": [
    "Bt @ B"
   ]
  },
  {
   "cell_type": "markdown",
   "metadata": {},
   "source": [
    "- 9. $\\mathbf{b}\\mathbf{b}^T$ the operation is valid as the first matrix has the same number of columns than the second one has rows\n"
   ]
  },
  {
   "cell_type": "code",
   "execution_count": 59,
   "metadata": {},
   "outputs": [
    {
     "data": {
      "text/plain": [
       "array([[ 1, -3, -8],\n",
       "       [-3,  9, 24],\n",
       "       [-8, 24, 64]])"
      ]
     },
     "execution_count": 59,
     "metadata": {},
     "output_type": "execute_result"
    }
   ],
   "source": [
    "B @ Bt"
   ]
  },
  {
   "cell_type": "markdown",
   "metadata": {},
   "source": [
    "- 10. $\\mathbf{b} + \\mathbf{c}^T$ the operation is valid as the first matrix has the same number of columns than the second one has rows\n"
   ]
  },
  {
   "cell_type": "code",
   "execution_count": 61,
   "metadata": {},
   "outputs": [
    {
     "data": {
      "text/plain": [
       "array([[ -4,   3,  -6],\n",
       "       [ 12,  -9,  18],\n",
       "       [ 32, -24,  48]])"
      ]
     },
     "execution_count": 61,
     "metadata": {},
     "output_type": "execute_result"
    }
   ],
   "source": [
    "B @ Ct"
   ]
  },
  {
   "cell_type": "markdown",
   "metadata": {},
   "source": [
    "- 11. $\\mathbf{b}^T\\mathbf{b}^T$ the operation is invalid as the first matrix has a different number of columns than the second one has rows\n",
    "\n"
   ]
  },
  {
   "cell_type": "markdown",
   "metadata": {},
   "source": [
    "- 12. $\\mathbf{A}^{-1}\\mathbf{b}$ the operation is valid as the first matrix has the same number of columns than the second one has rows\n",
    "\n"
   ]
  },
  {
   "cell_type": "code",
   "execution_count": 73,
   "metadata": {},
   "outputs": [
    {
     "data": {
      "text/plain": [
       "array([[ 7.66666667],\n",
       "       [-1.        ],\n",
       "       [-1.66666667]])"
      ]
     },
     "execution_count": 73,
     "metadata": {},
     "output_type": "execute_result"
    }
   ],
   "source": [
    "Ainv @ B"
   ]
  },
  {
   "cell_type": "markdown",
   "metadata": {},
   "source": [
    "- 13. $\\mathbf{A}\\circ\\mathbf{A}$ is posible as both matrixes share the same dimensions \n"
   ]
  },
  {
   "cell_type": "code",
   "execution_count": 74,
   "metadata": {},
   "outputs": [
    {
     "data": {
      "text/plain": [
       "array([[ 1,  4, 16],\n",
       "       [ 4, 16, 25],\n",
       "       [ 9, 25, 36]])"
      ]
     },
     "execution_count": 74,
     "metadata": {},
     "output_type": "execute_result"
    }
   ],
   "source": [
    "A * A"
   ]
  },
  {
   "cell_type": "markdown",
   "metadata": {},
   "source": [
    "- 14. $\\mathbf{b}\\circ\\mathbf{c}$ is possible as both matrixes share the same dimensions\n"
   ]
  },
  {
   "cell_type": "code",
   "execution_count": 75,
   "metadata": {},
   "outputs": [
    {
     "data": {
      "text/plain": [
       "array([[-4],\n",
       "       [-9],\n",
       "       [48]])"
      ]
     },
     "execution_count": 75,
     "metadata": {},
     "output_type": "execute_result"
    }
   ],
   "source": [
    "B * C"
   ]
  },
  {
   "attachments": {},
   "cell_type": "markdown",
   "metadata": {},
   "source": [
    "---\n",
    "\n",
    "# Numerical Programming"
   ]
  },
  {
   "attachments": {},
   "cell_type": "markdown",
   "metadata": {},
   "source": [
    "## 8\n",
    "**[10 points]** Loading data and gathering insights from a real dataset\n",
    "\n",
    "In data science, we often need to have a sense of the idiosyncrasies of the data, how they relate to the questions we are trying to answer, and to use that information to help us to determine what approach, such as machine learning, we may need to apply to achieve our goal. This exercise provides practice in exploring a dataset and answering question that might arise from applications related to the data.\n",
    "\n",
    "**Data**. The data for this problem can be found in the `data` subfolder in the `assignments` folder on [github](https://github.com/kylebradbury/ids705). The filename is `a1_egrid2016.xlsx`. This dataset is the Environmental Protection Agency's (EPA) [Emissions & Generation Resource Integrated Database (eGRID)](https://www.epa.gov/energy/emissions-generation-resource-integrated-database-egrid) containing information about all power plants in the United States, the amount of generation they produce, what fuel they use, the location of the plant, and many more quantities. We'll be using a subset of those data.\n",
    "\n",
    "The fields we'll be using include:\t\t\t\t\t\n",
    "    \n",
    "|field    |description|\n",
    "|:-----   |:-----|\n",
    "|SEQPLT16 |eGRID2016 Plant file sequence number (the index)| \n",
    "|PSTATABB |Plant state abbreviation|\n",
    "|PNAME    |Plant name |\n",
    "|LAT      |Plant latitude |\n",
    "|LON      |Plant longitude|\n",
    "|PLPRMFL  |Plant primary fuel |\n",
    "|CAPFAC   |Plant capacity factor |\n",
    "|NAMEPCAP |Plant nameplate capacity (Megawatts MW)|\n",
    "|PLNGENAN |Plant annual net generation (Megawatt-hours MWh)|\n",
    "|PLCO2EQA |Plant annual CO2 equivalent emissions (tons)|\n",
    "\n",
    "For more details on the data, you can refer to the [eGrid technical documents](https://www.epa.gov/sites/default/files/2021-02/documents/egrid2019_technical_guide.pdf). For example, you may want to review page 45 and the section \"Plant Primary Fuel (PLPRMFL)\", which gives the full names of the fuel types including WND for wind, NG for natural gas, BIT for Bituminous coal, etc.\n",
    "\n",
    "There also are a couple of \"gotchas\" to watch out for with this dataset:\n",
    "- The headers are on the second row and you'll want to ignore the first row (they're more detailed descriptions of the headers).\n",
    "- NaN values represent blanks in the data. These will appear regularly in real-world data, so getting experience working with these sorts of missing values will be important.\n",
    "\n",
    "**Your objective**. For this dataset, your goal is to answer the following questions about electricity generation in the United States:\n",
    "\n",
    "**(a)** Which plant has generated the most energy (measured in MWh)?\n",
    "\n",
    "**(b)** What is the name of the northern-most power plant in the United States?\n",
    "\n",
    "**(c)** What is the state where the northern-most power plant in the United States is located?\n",
    "\n",
    "**(d)** Plot a bar plot showing the amount of energy produced by each fuel type across all plants. \n",
    "\n",
    "**(e)** From the plot in (d), which fuel for generation produces the most energy (MWh) in the United States?"
   ]
  },
  {
   "cell_type": "markdown",
   "metadata": {},
   "source": [
    "**ANSWER**"
   ]
  },
  {
   "cell_type": "code",
   "execution_count": 3,
   "metadata": {},
   "outputs": [],
   "source": [
    "import pandas as pd\n",
    "\n",
    "bd = pd.read_excel(\"a1_egrid2016.xlsx\", skiprows=1)"
   ]
  },
  {
   "cell_type": "markdown",
   "metadata": {},
   "source": [
    "- **(a)** The plant that has generated the most energy measured in KwH is Palo Alto"
   ]
  },
  {
   "cell_type": "code",
   "execution_count": 4,
   "metadata": {},
   "outputs": [
    {
     "data": {
      "text/html": [
       "<div>\n",
       "<style scoped>\n",
       "    .dataframe tbody tr th:only-of-type {\n",
       "        vertical-align: middle;\n",
       "    }\n",
       "\n",
       "    .dataframe tbody tr th {\n",
       "        vertical-align: top;\n",
       "    }\n",
       "\n",
       "    .dataframe thead th {\n",
       "        text-align: right;\n",
       "    }\n",
       "</style>\n",
       "<table border=\"1\" class=\"dataframe\">\n",
       "  <thead>\n",
       "    <tr style=\"text-align: right;\">\n",
       "      <th></th>\n",
       "      <th>PNAME</th>\n",
       "      <th>PLNGENAN</th>\n",
       "    </tr>\n",
       "  </thead>\n",
       "  <tbody>\n",
       "    <tr>\n",
       "      <th>390</th>\n",
       "      <td>Palo Verde</td>\n",
       "      <td>3.237748e+07</td>\n",
       "    </tr>\n",
       "    <tr>\n",
       "      <th>164</th>\n",
       "      <td>Browns Ferry</td>\n",
       "      <td>2.621462e+07</td>\n",
       "    </tr>\n",
       "    <tr>\n",
       "      <th>7966</th>\n",
       "      <td>Peach Bottom</td>\n",
       "      <td>2.187544e+07</td>\n",
       "    </tr>\n",
       "    <tr>\n",
       "      <th>8764</th>\n",
       "      <td>South Texas Project</td>\n",
       "      <td>2.169430e+07</td>\n",
       "    </tr>\n",
       "    <tr>\n",
       "      <th>8157</th>\n",
       "      <td>Oconee</td>\n",
       "      <td>2.117710e+07</td>\n",
       "    </tr>\n",
       "    <tr>\n",
       "      <th>...</th>\n",
       "      <td>...</td>\n",
       "      <td>...</td>\n",
       "    </tr>\n",
       "    <tr>\n",
       "      <th>9683</th>\n",
       "      <td>Osage (WY)</td>\n",
       "      <td>NaN</td>\n",
       "    </tr>\n",
       "    <tr>\n",
       "      <th>9684</th>\n",
       "      <td>Pilot Butte</td>\n",
       "      <td>NaN</td>\n",
       "    </tr>\n",
       "    <tr>\n",
       "      <th>9694</th>\n",
       "      <td>Simpson Ridge Wind Farm LLC</td>\n",
       "      <td>NaN</td>\n",
       "    </tr>\n",
       "    <tr>\n",
       "      <th>9698</th>\n",
       "      <td>Sweetwater Solar</td>\n",
       "      <td>NaN</td>\n",
       "    </tr>\n",
       "    <tr>\n",
       "      <th>9703</th>\n",
       "      <td>Two Elk Generating Station</td>\n",
       "      <td>NaN</td>\n",
       "    </tr>\n",
       "  </tbody>\n",
       "</table>\n",
       "<p>9709 rows × 2 columns</p>\n",
       "</div>"
      ],
      "text/plain": [
       "                            PNAME      PLNGENAN\n",
       "390                    Palo Verde  3.237748e+07\n",
       "164                  Browns Ferry  2.621462e+07\n",
       "7966                 Peach Bottom  2.187544e+07\n",
       "8764          South Texas Project  2.169430e+07\n",
       "8157                       Oconee  2.117710e+07\n",
       "...                           ...           ...\n",
       "9683                   Osage (WY)           NaN\n",
       "9684                  Pilot Butte           NaN\n",
       "9694  Simpson Ridge Wind Farm LLC           NaN\n",
       "9698             Sweetwater Solar           NaN\n",
       "9703   Two Elk Generating Station           NaN\n",
       "\n",
       "[9709 rows x 2 columns]"
      ]
     },
     "execution_count": 4,
     "metadata": {},
     "output_type": "execute_result"
    }
   ],
   "source": [
    "bd[[\"PNAME\", \"PLNGENAN\"]].sort_values(\"PLNGENAN\", ascending=False)"
   ]
  },
  {
   "cell_type": "markdown",
   "metadata": {},
   "source": [
    "- **(b)**  The name of the northern-most power plant in the United States is Barrow\n",
    "\n",
    "- **(c)**  The state where the northern-most power plant in the United States is Arkansas"
   ]
  },
  {
   "cell_type": "code",
   "execution_count": 5,
   "metadata": {},
   "outputs": [
    {
     "data": {
      "text/html": [
       "<div>\n",
       "<style scoped>\n",
       "    .dataframe tbody tr th:only-of-type {\n",
       "        vertical-align: middle;\n",
       "    }\n",
       "\n",
       "    .dataframe tbody tr th {\n",
       "        vertical-align: top;\n",
       "    }\n",
       "\n",
       "    .dataframe thead th {\n",
       "        text-align: right;\n",
       "    }\n",
       "</style>\n",
       "<table border=\"1\" class=\"dataframe\">\n",
       "  <thead>\n",
       "    <tr style=\"text-align: right;\">\n",
       "      <th></th>\n",
       "      <th>PNAME</th>\n",
       "      <th>PSTATABB</th>\n",
       "      <th>LAT</th>\n",
       "      <th>LON</th>\n",
       "    </tr>\n",
       "  </thead>\n",
       "  <tbody>\n",
       "    <tr>\n",
       "      <th>11</th>\n",
       "      <td>Barrow</td>\n",
       "      <td>AK</td>\n",
       "      <td>71.292000</td>\n",
       "      <td>-156.778600</td>\n",
       "    </tr>\n",
       "    <tr>\n",
       "      <th>93</th>\n",
       "      <td>NSB Wainwright Utility</td>\n",
       "      <td>AK</td>\n",
       "      <td>70.642877</td>\n",
       "      <td>-160.020461</td>\n",
       "    </tr>\n",
       "    <tr>\n",
       "      <th>88</th>\n",
       "      <td>NSB Atqasuk Utility</td>\n",
       "      <td>AK</td>\n",
       "      <td>70.482600</td>\n",
       "      <td>-157.425200</td>\n",
       "    </tr>\n",
       "    <tr>\n",
       "      <th>131</th>\n",
       "      <td>TNSG North Plant</td>\n",
       "      <td>AK</td>\n",
       "      <td>70.235278</td>\n",
       "      <td>-148.383611</td>\n",
       "    </tr>\n",
       "    <tr>\n",
       "      <th>90</th>\n",
       "      <td>NSB Nuiqsut Utility</td>\n",
       "      <td>AK</td>\n",
       "      <td>70.220565</td>\n",
       "      <td>-150.993492</td>\n",
       "    </tr>\n",
       "    <tr>\n",
       "      <th>...</th>\n",
       "      <td>...</td>\n",
       "      <td>...</td>\n",
       "      <td>...</td>\n",
       "      <td>...</td>\n",
       "    </tr>\n",
       "    <tr>\n",
       "      <th>8809</th>\n",
       "      <td>Turbine</td>\n",
       "      <td>TX</td>\n",
       "      <td>NaN</td>\n",
       "      <td>NaN</td>\n",
       "    </tr>\n",
       "    <tr>\n",
       "      <th>9349</th>\n",
       "      <td>SPI - Everett</td>\n",
       "      <td>WA</td>\n",
       "      <td>NaN</td>\n",
       "      <td>NaN</td>\n",
       "    </tr>\n",
       "    <tr>\n",
       "      <th>9574</th>\n",
       "      <td>Wheaton Solar</td>\n",
       "      <td>WI</td>\n",
       "      <td>NaN</td>\n",
       "      <td>NaN</td>\n",
       "    </tr>\n",
       "    <tr>\n",
       "      <th>9596</th>\n",
       "      <td>Chemours Belle Plant</td>\n",
       "      <td>WV</td>\n",
       "      <td>NaN</td>\n",
       "      <td>NaN</td>\n",
       "    </tr>\n",
       "    <tr>\n",
       "      <th>9631</th>\n",
       "      <td>UCC South Charleston Plant</td>\n",
       "      <td>WV</td>\n",
       "      <td>NaN</td>\n",
       "      <td>NaN</td>\n",
       "    </tr>\n",
       "  </tbody>\n",
       "</table>\n",
       "<p>9709 rows × 4 columns</p>\n",
       "</div>"
      ],
      "text/plain": [
       "                           PNAME PSTATABB        LAT         LON\n",
       "11                        Barrow       AK  71.292000 -156.778600\n",
       "93        NSB Wainwright Utility       AK  70.642877 -160.020461\n",
       "88           NSB Atqasuk Utility       AK  70.482600 -157.425200\n",
       "131             TNSG North Plant       AK  70.235278 -148.383611\n",
       "90           NSB Nuiqsut Utility       AK  70.220565 -150.993492\n",
       "...                          ...      ...        ...         ...\n",
       "8809                     Turbine       TX        NaN         NaN\n",
       "9349               SPI - Everett       WA        NaN         NaN\n",
       "9574               Wheaton Solar       WI        NaN         NaN\n",
       "9596        Chemours Belle Plant       WV        NaN         NaN\n",
       "9631  UCC South Charleston Plant       WV        NaN         NaN\n",
       "\n",
       "[9709 rows x 4 columns]"
      ]
     },
     "execution_count": 5,
     "metadata": {},
     "output_type": "execute_result"
    }
   ],
   "source": [
    "bd[[\"PNAME\", \"PSTATABB\", \"LAT\", \"LON\"]].sort_values(\"LAT\", ascending=False)"
   ]
  },
  {
   "cell_type": "markdown",
   "metadata": {},
   "source": [
    " **(d)** Plot a bar plot showing the amount of energy produced by each fuel type across all plants. "
   ]
  },
  {
   "cell_type": "code",
   "execution_count": 81,
   "metadata": {},
   "outputs": [
    {
     "data": {
      "text/plain": [
       "Text(0.5, 1.0, 'Amount of energy produced by each fuel type across all plants')"
      ]
     },
     "execution_count": 81,
     "metadata": {},
     "output_type": "execute_result"
    },
    {
     "data": {
      "image/png": "[encoded data removed]",
      "text/plain": [
       "<Figure size 1000x400 with 1 Axes>"
      ]
     },
     "metadata": {},
     "output_type": "display_data"
    }
   ],
   "source": [
    "import seaborn as sns\n",
    "import matplotlib.pyplot as plt\n",
    "import warnings\n",
    "\n",
    "warnings.simplefilter(action=\"ignore\", category=FutureWarning)\n",
    "\n",
    "\n",
    "bd2 = bd.groupby(\"PLPRMFL\")[\"PLNGENAN\"].sum().reset_index()\n",
    "\n",
    "# sns.set_theme(style=\"whitegrid\")\n",
    "plt.figure(figsize=(10, 4))\n",
    "sns.barplot(x=\"PLPRMFL\", y=\"PLNGENAN\", data=bd2)\n",
    "plt.xticks(rotation=45)\n",
    "plt.xlabel(\"Type of fuel\")\n",
    "plt.ylabel(\"energy produced (MWh)\")\n",
    "plt.title(\"Amount of energy produced by each fuel type across all plants\")"
   ]
  },
  {
   "cell_type": "markdown",
   "metadata": {},
   "source": [
    "**(e)**  Natural gas fuel (NG) produces the most energy in the United states\n"
   ]
  },
  {
   "attachments": {},
   "cell_type": "markdown",
   "metadata": {},
   "source": [
    "---\n",
    "\n",
    "## 9\n",
    "**[6 points]** *Vectorization*. When we first learn to code and think about iterating over an array, we often use loops. If implemented correctly, that does the trick. In machine learning, we iterate over so much data that those loops can lead to significant slow downs if they are not computationally efficient. In Python, vectorizing code and relying on matrix operations with efficient tools like numpy is typically the faster approach. Of course, numpy relies on loops to complete the computation, but this is at a lower level of programming (typically in C), and therefore is much more efficient. This exercise will explore the benefits of vectorization. Since many machine learning techniques rely on matrix operations, it's helpful to begin thinking about implementing algorithms using vector forms.\n",
    "\n",
    "Begin by creating an array of 10 million random numbers using the numpy `random.randn` module. Compute the sum of the squares of those random numbers first in a for loop, then using Numpy's `dot` module to perform an inner (dot) product. Verify that your code produces the same output in each case. Time how long it takes to compute each and report the results and report the output. How many times faster is the vectorized code than the for loop approach? (Note - your results may vary from run to run).\n",
    "\n",
    "Your output should use the `print()` function as follows (where the # symbols represent your answers, to a reasonable precision of 4-5 significant figures):\n",
    "\n",
    "`Time [sec] (non-vectorized): ######`\n",
    "\n",
    "`Time [sec] (vectorized):     ######`\n",
    "\n",
    "`The vectorized code is ##### times faster than the nonvectorized code`"
   ]
  },
  {
   "cell_type": "markdown",
   "metadata": {},
   "source": [
    "**ANSWER**"
   ]
  },
  {
   "cell_type": "code",
   "execution_count": 67,
   "metadata": {},
   "outputs": [
    {
     "name": "stdout",
     "output_type": "stream",
     "text": [
      "Time [sec] (non-vectorized): 0.1523\n",
      "Time [sec] (vectorized):0.00099\n",
      "The vectorized code is 153.84 times faster than the non vectorized code\n"
     ]
    }
   ],
   "source": [
    "import time\n",
    "\n",
    "# sum of squares using for loop (non vectorized)\n",
    "# create 10 mill array\n",
    "mil_array = np.random.randn(1000000)\n",
    "# loop\n",
    "sum_sq_loop = 0\n",
    "start_loop = time.time()\n",
    "for i in mil_array:\n",
    "    i_sq = i**2\n",
    "    sum_sq_loop += i_sq\n",
    "end_loop = time.time()\n",
    "time_loop = round(end_loop - start_loop, 5)\n",
    "\n",
    "# print(f'sum loop:{sum_sq_loop},time: {time_loop}')\n",
    "\n",
    "# vector\n",
    "start_vector = time.time()\n",
    "sum_sq_vector = np.sum(mil_array * mil_array)\n",
    "end_vector = time.time()\n",
    "time_vector = round(end_vector - start_vector, 5)\n",
    "\n",
    "# dif in times\n",
    "times_fast = round(time_loop / time_vector, 2)\n",
    "# print(f'sum vector:{sum_sq_vector},time: {time_vector}')\n",
    "\n",
    "print(\n",
    "    f\"Time [sec] (non-vectorized): {time_loop}\\nTime [sec] (vectorized):{time_vector}\\nThe vectorized code is {times_fast} times faster than the non vectorized code\"\n",
    ")"
   ]
  },
  {
   "attachments": {},
   "cell_type": "markdown",
   "metadata": {},
   "source": [
    "---\n",
    "\n",
    "## 10\n",
    "**[10 points]** This exercise will walk through some basic numerical programming and probabilistic thinking exercises, two skills which are frequently used in machine learning for answering questions from our data.\n",
    "1. Synthesize $n=10^4$ normally distributed data points with mean $\\mu=2$ and a standard deviation of $\\sigma=1$. Call these observations from a random variable $X$, and call the vector of observations that you generate, $\\textbf{x}$.\n",
    "2. Calculate the mean and standard deviation of $\\textbf{x}$ to validate (1) and provide the result to a precision of four significant figures.\n",
    "3. Plot a histogram of the data in $\\textbf{x}$ with 30 bins\n",
    "4. What is the 90th percentile of $\\textbf{x}$? The 90th percentile is the value below which 90% of observations can be found.\n",
    "5. What is the 99th percentile of $\\textbf{x}$?\n",
    "6. Now synthesize $n=10^4$ normally distributed data points with mean $\\mu=0$ and a standard deviation of $\\sigma=3$. Call these observations from a random variable $Y$, and call the vector of observations that you generate, $\\textbf{y}$.\n",
    "7. Create a new figure and plot the histogram of the data in $\\textbf{y}$ on the same axes with the histogram of $\\textbf{x}$, so that both histograms can be seen and compared.\n",
    "8. Using the observations from $\\textbf{x}$ and $\\textbf{y}$, estimate $E[XY]$"
   ]
  },
  {
   "cell_type": "markdown",
   "metadata": {},
   "source": [
    "**ANSWER**"
   ]
  },
  {
   "cell_type": "markdown",
   "metadata": {},
   "source": [
    "> 1 and 2"
   ]
  },
  {
   "cell_type": "code",
   "execution_count": 69,
   "metadata": {},
   "outputs": [
    {
     "name": "stdout",
     "output_type": "stream",
     "text": [
      "Mean of x: 2.0026\n",
      "Standard Deviation of x: 1.0025\n"
     ]
    }
   ],
   "source": [
    "np.random.seed(33)\n",
    "n = 10**4\n",
    "mu = 2\n",
    "sigma = 1\n",
    "x = np.random.normal(mu, sigma, n)\n",
    "\n",
    "mean_x = np.mean(x)\n",
    "std_x = np.std(x)\n",
    "\n",
    "print(f\"Mean x: {mean_x:.4f}\")\n",
    "print(f\"Standard Deviation x: {std_x:.4f}\")"
   ]
  },
  {
   "cell_type": "markdown",
   "metadata": {},
   "source": [
    "> 3"
   ]
  },
  {
   "cell_type": "code",
   "execution_count": 70,
   "metadata": {},
   "outputs": [
    {
     "data": {
      "image/png": "[encoded data removed]",
      "text/plain": [
       "<Figure size 1000x600 with 1 Axes>"
      ]
     },
     "metadata": {},
     "output_type": "display_data"
    }
   ],
   "source": [
    "plt.figure(figsize=(10, 6))\n",
    "plt.hist(x, bins=30, color=\"orange\")\n",
    "\n",
    "plt.ylabel(\"Freq\")\n",
    "plt.title(\"Histogram\")\n",
    "\n",
    "# Show the plot\n",
    "plt.show()"
   ]
  },
  {
   "cell_type": "markdown",
   "metadata": {},
   "source": [
    "> 4 and 5"
   ]
  },
  {
   "cell_type": "code",
   "execution_count": 74,
   "metadata": {},
   "outputs": [
    {
     "name": "stdout",
     "output_type": "stream",
     "text": [
      "The 90th percentile, where the value below which 90% of observations can be found, is: 3.2908\n",
      "The 99th percentile, where the value below which 99% of observations can be found, is: 4.3249\n"
     ]
    }
   ],
   "source": [
    "percentile_90 = np.percentile(x, 90)\n",
    "percentile_99 = np.percentile(x, 99)\n",
    "print(\n",
    "    f\"The 90th percentile, where the value below which 90% of observations can be found, is: {percentile_90:.4f}\"\n",
    ")\n",
    "print(\n",
    "    f\"The 99th percentile, where the value below which 99% of observations can be found, is: {percentile_99:.4f}\"\n",
    ")"
   ]
  },
  {
   "cell_type": "markdown",
   "metadata": {},
   "source": [
    "> 6 and 7"
   ]
  },
  {
   "cell_type": "code",
   "execution_count": 78,
   "metadata": {},
   "outputs": [
    {
     "data": {
      "image/png": "[encoded data removed]",
      "text/plain": [
       "<Figure size 1000x600 with 1 Axes>"
      ]
     },
     "metadata": {},
     "output_type": "display_data"
    }
   ],
   "source": [
    "n_2 = 10**4\n",
    "mu_2 = 0\n",
    "sigma_2 = 3\n",
    "\n",
    "y = np.random.normal(mu_2, sigma_2, n)\n",
    "\n",
    "plt.figure(figsize=(10, 6))\n",
    "plt.hist(y, bins=30, color=\"green\", alpha=0.7, label=\"Y\", edgecolor=\"black\")\n",
    "plt.hist(x, bins=30, color=\"orange\", alpha=0.7, label=\"X\", edgecolor=\"black\")\n",
    "\n",
    "# Set labels and title\n",
    "plt.xlabel(\"Value\")\n",
    "plt.ylabel(\"Freq\")\n",
    "plt.title(\"Histograms X and Y\")\n",
    "plt.legend()\n",
    "\n",
    "# Show the plot\n",
    "plt.show()"
   ]
  },
  {
   "cell_type": "markdown",
   "metadata": {},
   "source": [
    "> 8. estimate $E[XY]$"
   ]
  },
  {
   "cell_type": "code",
   "execution_count": 80,
   "metadata": {},
   "outputs": [
    {
     "name": "stdout",
     "output_type": "stream",
     "text": [
      "Estimated E[XY]: 0.0109\n"
     ]
    }
   ],
   "source": [
    "e_xy = np.mean(x * y)\n",
    "\n",
    "print(f\"Estimated E[XY]: {e_xy:.4f}\")"
   ]
  },
  {
   "attachments": {},
   "cell_type": "markdown",
   "metadata": {},
   "source": [
    "---\n",
    "\n",
    "# Version Control via Git"
   ]
  },
  {
   "attachments": {},
   "cell_type": "markdown",
   "metadata": {},
   "source": [
    "## 11\n",
    "**[4 points]** Git is efficient for collaboration, and expectation in industry, and one of the best ways to share results in academia. You can even use some Git repositories (e.g. Github) as hosts for website, such as with the [course website](https://kylebradbury.github.io/ids705/index.html). As a data scientist with experience in machine learning, Git is expected. We will interact with Git repositories (a.k.a. repos) throughout this course, and your project will require the use of git repos for collaboration.\n",
    "\n",
    "Complete the [Atlassian Git tutorial](https://www.atlassian.com/git/tutorials/what-is-version-control), specifically the following listed sections. Try each concept that's presented. For this tutorial, instead of using BitBucket as your remote repository host, you may use your preferred platform such as [Github](https://github.com/) or [Duke's Gitlab](https://gitlab.oit.duke.edu/users/sign_in).\n",
    "1. [What is version control](https://www.atlassian.com/git/tutorials/what-is-version-control)\n",
    "2. [What is Git](https://www.atlassian.com/git/tutorials/what-is-git)\n",
    "3. [Install Git](https://www.atlassian.com/git/tutorials/install-git)\n",
    "4. [Setting up a repository](https://www.atlassian.com/git/tutorials/install-git)\n",
    "5. [Saving changes](https://www.atlassian.com/git/tutorials/saving-changes)\n",
    "6. [Inspecting a repository](https://www.atlassian.com/git/tutorials/inspecting-a-repository)\n",
    "7. [Undoing changes](https://www.atlassian.com/git/tutorials/undoing-changes)\n",
    "8. [Rewriting history](https://www.atlassian.com/git/tutorials/rewriting-history)\n",
    "9. [Syncing](https://www.atlassian.com/git/tutorials/syncing)\n",
    "10. [Making a pull request](https://www.atlassian.com/git/tutorials/making-a-pull-request)\n",
    "11. [Using branches](https://www.atlassian.com/git/tutorials/using-branches)\n",
    "12. [Comparing workflows](https://www.atlassian.com/git/tutorials/comparing-workflows)\n",
    "\n",
    "I also have created two videos on the topic to help you understand some of these concepts: [Git basics](https://www.youtube.com/watch?v=fBCwfoBr2ng) and a [step-by-step tutorial](https://www.youtube.com/watch?v=nH7qJHx-h5s).\n",
    "\n",
    "As an additional resource, Microsoft now offers a git [tutorial](https://learn.microsoft.com/en-us/collections/o1njfe825p602p) on this topic as well.\n",
    "\n",
    "For your answer, affirm that you *either* completed the tutorials above OR have previous experience with ALL of the concepts above. Confirm this by typing your name below and selecting the situation that applies from the two options in brackets."
   ]
  },
  {
   "cell_type": "markdown",
   "metadata": {},
   "source": [
    "**ANSWER**\n",
    "\n",
    "I, Daniela Jiménez Lara, affirm that I have completed the above tutorial and also have previous experience that covers all the content in this tutorial"
   ]
  },
  {
   "attachments": {},
   "cell_type": "markdown",
   "metadata": {},
   "source": [
    "---\n",
    "\n",
    "# Exploratory Data Analysis\n",
    "## 12\n",
    "**[15 points]** Here you'll bring together some of the individual skills that you demonstrated above and create a Jupyter notebook based blog post on your exploratory data analysis. Your goal is to identify a question or problem and to work towards solving it or providing additional information or evidence (data) related to it through your data analysis. Below, we walk through a process to follow for your analysis. Additionally, you can find an [example of a well-done exploratory data analysis here from past years](https://github.com/kylebradbury/ids705/blob/master/assignments/Assignment_1_Q12_Example.ipynb).\n",
    "\n",
    "1. Find a dataset that interests you and relates to a question or problem that you find intriguing.\n",
    "2. Describe the dataset, the source of the data, and the reason the dataset was of interest. Include a description of the features, data size, data creator and year of creation (if available), etc. What question are you hoping to answer through exploring the dataset?\n",
    "3. Check the data and see if they need to be cleaned: are there missing values? Are there clearly erroneous values? Do two tables need to be merged together? Clean the data so it can be visualized. If the data are clean, state how you know they are clean (what did you check?).\n",
    "3. Plot the data, demonstrating interesting features that you discover. Are there any relationships between variables that were surprising or patterns that emerged? Please exercise creativity and curiosity in your plots. You should have at least 4 plots exploring the data in different ways.\n",
    "4. What insights are you able to take away from exploring the data? Is there a reason why analyzing the dataset you chose is particularly interesting or important? Summarize this for a general audience (imagine your publishing a blog post online) - boil down your findings in a way that is accessible, but still accurate.\n",
    "\n",
    "Here your analysis will evaluated based on:\n",
    "1. Motivation: was the purpose of the choice of data clearly articulated? Why was the dataset chosen and what was the goal of the analysis?\n",
    "2. Data cleaning: were any issues with the data investigated and, if found, were they resolved?\n",
    "3. Quality of data exploration: were at least 4 unique plots (minimum) included and did those plots demonstrate interesting aspects of the data? Was there a clear purpose and takeaway from EACH plot? \n",
    "4. Interpretation: Were the insights revealed through the analysis and their potential implications clearly explained? Was there an overall conclusion to the analysis?"
   ]
  },
  {
   "cell_type": "markdown",
   "metadata": {},
   "source": [
    "**ANSWER**"
   ]
  },
  {
   "cell_type": "markdown",
   "metadata": {},
   "source": [
    "> Mexico City subway network connects the fifth largest city in the world with 21 million habitants and as such,  is essential for people's commutes to work, school, and daily activities. Having a large amount of users, the subway needs to be on prime condition to operate efficienty and on time. The dataset for this EDA gives us information on the daily users by line and station, which can be used to identify the most used stations by entrypoint and date, as well as the growth of users by year or month. All of this insights provide government and users information about the stations that could need more maintance as they have more users and can also give insights about the current rate of users related to the subway capcity. The latter can assist urban developers. \n",
    "> The dataset in this exploratory data analysis was creted by Mexico City's Ministry of Movility and published in Mexico City Data Portal, with its last update on January 19, 2024. It measures daily influx of users in the Mexico City's metro from January 2021 to December 2023, the data presents information of the daily influx by station and type of payment. It includes 640576 observations and seven variables:\n",
    "- date\n",
    "- month \n",
    "- year \n",
    "- metro line\n",
    "- metro station\n",
    "- type of payment \n",
    "- user influx\n",
    "\n",
    "\n",
    "> The data was not clean as it is had missing values on the month variable, this was resolved by creting a new variable and extracting the information from the date column. \n",
    ">  A second dataset containing more information about the stations was merged into the dataset using the station name as key. This new dataset has the following information for each station:\n",
    "- name of the public transportation sytem: SISTEMA\n",
    "- name of station:   NOMBRE\n",
    "- name of line:  LINEA\n",
    "- consecutive number of the station in the subway line: EST \n",
    "- station: keyCVE_EST\n",
    "- station key for a metropolitan mobility survey: CVE_EOD17\n",
    "- type of station (terminal, intermediate or transfer): TIPO\n",
    "- neighborhood where the station is located: ALCALDIAS:\n",
    "- year in which the station started operating: AÑO\n",
    "\n",
    ">  A third dataset containing information on the number of trains per line was added using thelime name as key. This new dataset was collected from the metro public website. "
   ]
  },
  {
   "cell_type": "code",
   "execution_count": null,
   "metadata": {},
   "outputs": [],
   "source": [
    "import pandas as pd\n",
    "from simpledbf import Dbf5\n",
    "\n",
    "stc_users = pd.read_csv(\"afluenciastc_desglosado_12_2023.csv\")\n",
    "dbf = Dbf5(\"stcmetro_shp/STC_Metro_estaciones_utm14n.dbf\")\n",
    "stc_location = dbf.to_dataframe()\n",
    "\n",
    "# clean month\n",
    "stc_users[\"fecha2\"] = pd.to_datetime(stc_users[\"fecha\"])\n",
    "stc_users[\"month\"] = stc_users[\"fecha2\"].dt.month_name()\n",
    "stc_users[\"week_day\"] = stc_users[\"fecha2\"].dt.day_name()\n",
    "stc_users[\"weekend\"] = stc_users[\"week_day\"].isin([\"Saturday\", \"Sunday\"]).astype(int)\n",
    "stc_users\n",
    "\n",
    "# crete number of trains dataset\n",
    "trenes_db = {\n",
    "    \"linea\": [\n",
    "        \"Línea 1\",\n",
    "        \"Línea 2\",\n",
    "        \"Línea 3\",\n",
    "        \"Línea 4\",\n",
    "        \"Línea 5\",\n",
    "        \"Línea 6\",\n",
    "        \"Línea 7\",\n",
    "        \"Línea 8\",\n",
    "        \"Línea 9\",\n",
    "        \"Línea A\",\n",
    "        \"Línea B\",\n",
    "        \"Línea 12\",\n",
    "    ],\n",
    "    \"trenes\": [50, 41, 54, 14, 25, 15, 32, 30, 34, 33, 36, 30],\n",
    "}\n",
    "trenes_db = pd.DataFrame(trenes_db)\n",
    "\n",
    "# merge station info dataset\n",
    "stc_user_location = pd.merge(\n",
    "    stc_users, stc_location, how=\"left\", left_on=\"estacion\", right_on=\"NOMBRE\"\n",
    ")\n",
    "\n",
    "stc_user_location = pd.merge(\n",
    "    stc_user_location, trenes_db, how=\"left\", left_on=\"linea\", right_on=\"linea\"\n",
    ")"
   ]
  },
  {
   "cell_type": "code",
   "execution_count": null,
   "metadata": {},
   "outputs": [],
   "source": [
    "import seaborn as sns\n",
    "import matplotlib.pyplot as plt\n",
    "import warnings\n",
    "\n",
    "warnings.simplefilter(action=\"ignore\", category=FutureWarning)\n",
    "# graph 1\n",
    "users_year = (\n",
    "    stc_user_location.groupby([\"anio\", \"linea\"])[\"afluencia\"].sum().reset_index()\n",
    ")\n",
    "plt.figure(figsize=(10, 4))\n",
    "sns.barplot(x=\"anio\", y=\"afluencia\", hue=\"linea\", data=users_year)\n",
    "plt.xlabel(\"Station\")\n",
    "plt.ylabel(\"Afluence\")\n",
    "plt.title(\"Graph 1. Afluence by line and year\", y=1.02)\n",
    "plt.legend(bbox_to_anchor=(0.5, -0.15), loc=\"upper center\", ncol=3)\n",
    "\n",
    "# graph 2\n",
    "d1 = stc_user_location.groupby([\"fecha2\", \"tipo_pago\"])[\"afluencia\"].sum().reset_index()\n",
    "plt.figure(figsize=(20, 10))\n",
    "sns.lineplot(x=\"fecha2\", y=\"afluencia\", hue=\"tipo_pago\", data=d1)\n",
    "plt.xlabel(\"year\")\n",
    "plt.ylabel(\"Afluence\")\n",
    "plt.title(\"Graph 2. Afluence by year and type of payment from 2021 to 2023\")\n",
    "plt.legend(title=\"Tipo\")\n",
    "plt.show()\n",
    "\n",
    "\n",
    "# graph 3\n",
    "users_2023 = stc_user_location[stc_user_location[\"anio\"] == 2023]\n",
    "users_2023 = (\n",
    "    users_2023.groupby([\"estacion\", \"linea\", \"TIPO\"])[\"afluencia\"].sum().reset_index()\n",
    ")\n",
    "users_2023_top_50 = users_2023.sort_values(by=\"afluencia\", ascending=False).head(50)\n",
    "\n",
    "\n",
    "plt.figure(figsize=(12, 8))\n",
    "sns.barplot(\n",
    "    x=\"afluencia\",\n",
    "    y=\"estacion\",\n",
    "    hue=\"linea\",\n",
    "    data=users_2023_top_50,\n",
    "    linewidth=8,\n",
    "    dodge=False,\n",
    ")\n",
    "plt.ylabel(\"Station\")\n",
    "plt.xlabel(\"Afluence\")\n",
    "plt.title(\"Graph 3. Afluence by top 50 stations in 2023, highlighting line\", y=1.02)\n",
    "plt.legend(bbox_to_anchor=(0.5, -0.15), loc=\"upper center\", ncol=3)\n",
    "\n",
    "# graph 4\n",
    "plt.figure(figsize=(12, 8))\n",
    "sns.barplot(\n",
    "    x=\"afluencia\",\n",
    "    y=\"estacion\",\n",
    "    hue=\"TIPO\",\n",
    "    data=users_2023_top_50,\n",
    "    linewidth=8,\n",
    "    dodge=False,\n",
    ")\n",
    "plt.ylabel(\"Station\")\n",
    "plt.xlabel(\"Afluence\")\n",
    "plt.title(\n",
    "    \"Graph 4. Afluence by top 50 stations in 2023, highlighting station type\", y=1.02\n",
    ")\n",
    "plt.legend(bbox_to_anchor=(0.5, -0.15), loc=\"upper center\", ncol=3)\n",
    "\n",
    "# graph 5\n",
    "users_2023_line = stc_user_location[stc_user_location[\"anio\"] == 2023]\n",
    "\n",
    "users_2023_line\n",
    "\n",
    "users_2023_line = (\n",
    "    users_2023_line.groupby([\"linea\", \"fecha2\", \"trenes\"])[\"afluencia\"]\n",
    "    .sum()\n",
    "    .reset_index()\n",
    ")\n",
    "\n",
    "users_2023_line_avg = (\n",
    "    users_2023_line.groupby([\"linea\", \"trenes\"])[\"afluencia\"].mean().reset_index()\n",
    ")\n",
    "\n",
    "plt.figure(figsize=(10, 6))\n",
    "groups = users_2023_line_avg.groupby(\"linea\")\n",
    "for name, group in groups:\n",
    "    plt.plot(\n",
    "        group.trenes,\n",
    "        group.afluencia,\n",
    "        marker=\"o\",\n",
    "        linestyle=\"\",\n",
    "        markersize=12,\n",
    "        label=name,\n",
    "    )\n",
    "for i, label in enumerate(users_2023_line_avg[\"linea\"]):\n",
    "    plt.text(\n",
    "        users_2023_line_avg[\"trenes\"][i],\n",
    "        users_2023_line_avg[\"afluencia\"][i],\n",
    "        label,\n",
    "        fontsize=8,\n",
    "        ha=\"right\",\n",
    "        va=\"bottom\",\n",
    "    )\n",
    "\n",
    "plt.ylabel(\"Average daily afluence\")\n",
    "plt.xlabel(\"Trains in service\")\n",
    "plt.title(\"Graph 5. Average daily afluence and trains in 2023 by line\", y=1.02)\n",
    "plt.show()"
   ]
  },
  {
   "cell_type": "markdown",
   "metadata": {},
   "source": [
    "I was born and raised in Mexico City, and my reliance on the public transportation system stems from two reasons: firstly, my aversion to driving, and secondly, the abysmal state of car transit, making the subway a quicker alternative. However, my experiences with the metro have been marked by a noticeable lack of maintenance and severe overcrowding. Furthermore, the newest metro line was recently closed for an entire year due to construction issues, which led to a tragic incident that claimed 27 lives. Recognizing the variations in metro usage across stations and lines is crucial for both authorities and citizens, providing valuable insights for service improvement.\n",
    "\n",
    "While the city's transport authority strives to publish user-related information, there's an omission regarding infrastructure details. Information on trains only encompasses the total count per line, neglecting aspects such as train size, capacity, years in usage, or days in service. These limitations hinder accountability, but even with the available data, intriguing insights can be gleaned.\n",
    "\n",
    "As depicted in Graph 1, the yearly growth in total users highlights consistently high usage on lines 2, 3, 9, and 8. Graph 2 reveals a notable shift towards the preference for prepaid cards over tickets in the past three years, with an unexpected decline in single ticket usage in the last trimester of 2023. This decline warrants further exploration to comprehend its origin and its implications for both citizens and the transportation authority.\n",
    "\n",
    "Graphs 3 and 4 unveil the most frequented stations, providing authorities with valuable information to allocate resources for maintenance. Additionally, by categorizing stations as terminal, intermediate, or transfer, it becomes possible to gauge the maintenance needs and the ramifications of potential closures for service.\n",
    "\n",
    "The concluding graph illustrates the average daily users per metro line and the corresponding number of operating trains. Notably, heavily-used lines 2, 3, 8, and 9 don't necessarily have the highest train counts. This raises  questions for further exploration. Why do more congested lines have fewer trains than less congested ones? Is this linked to train type or capacity? What is the average passenger load compared to capacity?\n",
    "\n",
    "This exploratory data analysis of daily users in Mexico City's subway system is a significant step towards comprehending its usage patterns. It serves as an accountability tool, urging authorities to allocate resources for enhancement and maintenance. Regrettably, the data currently available is insufficient to gauge the system's response to demand, as crucial information on the state of trains, stations, and service remains elusive.\n",
    "\n",
    "References:\n",
    "- https://www.metro.cdmx.gob.mx/parque-vehicular\n",
    "- https://datos.cdmx.gob.mx/dataset/afluencia-diaria-del-metro-cdmx/resource/cce544e1-dc6b-42b4-bc27-0d8e6eb3ed72\n",
    "- https://datos.cdmx.gob.mx/dataset/lineas-y-estaciones-del-metro/resource/288b10dd-4f21-4338-b1ed-239487820512 "
   ]
  }
 ],
 "metadata": {
  "kernelspec": {
   "display_name": "base",
   "language": "python",
   "name": "python3"
  },
  "language_info": {
   "codemirror_mode": {
    "name": "ipython",
    "version": 3
   },
   "file_extension": ".py",
   "mimetype": "text/x-python",
   "name": "python",
   "nbconvert_exporter": "python",
   "pygments_lexer": "ipython3",
   "version": "3.11.5"
  },
  "nteract": {
   "version": "0.28.0"
  },
  "varInspector": {
   "cols": {
    "lenName": 16,
    "lenType": 16,
    "lenVar": 40
   },
   "kernels_config": {
    "python": {
     "delete_cmd_postfix": "",
     "delete_cmd_prefix": "del ",
     "library": "var_list.py",
     "varRefreshCmd": "print(var_dic_list())"
    },
    "r": {
     "delete_cmd_postfix": ") ",
     "delete_cmd_prefix": "rm(",
     "library": "var_list.r",
     "varRefreshCmd": "cat(var_dic_list()) "
    }
   },
   "position": {
    "height": "643px",
    "left": "1548px",
    "right": "20px",
    "top": "121px",
    "width": "350px"
   },
   "types_to_exclude": [
    "module",
    "function",
    "builtin_function_or_method",
    "instance",
    "_Feature"
   ],
   "window_display": true
  },
  "vscode": {
   "interpreter": {
    "hash": "f54e0b9f92ceb50229b3b7ea26b5d02f05ce8845dd8d997c014a0efede4c9c20"
   }
  }
 },
 "nbformat": 4,
 "nbformat_minor": 2
}
