{
 "cells": [
  {
   "cell_type": "markdown",
   "metadata": {},
   "source": [
    "# Assignment 3 - Supervised Learning: model training and evaluation"
   ]
  },
  {
   "cell_type": "markdown",
   "metadata": {},
   "source": [
    "## DANIELA JIMENEZ LARA\n",
    "\n",
    "Netid: dj216\n",
    "\n",
    "*Names of students you worked with on this assignment*: LIST HERE IF APPLICABLE (delete if not)\n",
    "\n",
    "Note: this assignment falls under collaboration Mode 2: Individual Assignment – Collaboration Permitted. Please refer to the syllabus for additional information."
   ]
  },
  {
   "cell_type": "markdown",
   "metadata": {},
   "source": [
    "Instructions for all assignments can be found [here](https://kylebradbury.github.io/ids705/notebooks/assignment_instructions.html).\n",
    "\n",
    "Total points in the assignment add up to 90; an additional 10 points are allocated to presentation quality."
   ]
  },
  {
   "cell_type": "markdown",
   "metadata": {},
   "source": [
    "# Learning Objectives:\n",
    "This assignment will provide structured practice to help enable you to...\n",
    "1. Understand the primary workflow in machine learning: (1) identifying a hypothesis function set of models, (2) determining a loss/cost/error/objective function to minimize, and (3) minimizing that function through gradient descent\n",
    "2. Understand the inner workings of logistic regression and how linear models for classification can be developed.\n",
    "3. Gain practice in implementing machine learning algorithms from the most basic building blocks to understand the math and programming behind them to achieve practical proficiency with the techniques\n",
    "4. Implement batch gradient descent and become familiar with how that technique is used and its dependence on the choice of learning rate\n",
    "5. Evaluate supervised learning algorithm performance through ROC curves and using cross validation\n",
    "6. Apply regularization to linear models to improve model generalization performance"
   ]
  },
  {
   "cell_type": "markdown",
   "metadata": {},
   "source": [
    "# 1\n",
    "## Classification using logistic regression: build it from the ground up\n",
    "**[60 points]**\n",
    "\n",
    "This exercise will walk you through the full life-cycle of a supervised machine learning classification problem. Classification problem consists of two features/predictors (e.g. petal width and petal length) and your goal is to predict one of two possible classes (class 0 or class 1). You will build, train, and evaluate the performance of a logistic regression classifier on the data provided. Before you begin any modeling, you'll load and explore your data in Part I to familiarize yourself with it - and check for any missing or erroneous data. Then, in Part II, we will review an appropriate hypothesis set of functions to fit to the data: in this case, logistic regression. In Part III, we will derive an appropriate cost function for the data (spoiler alert: it's cross-entropy) as well as the gradient descent update equation that will allow you to optimize that cost function to identify the parameters that minimize the cost for the training data. In Part IV, all the pieces come together and you will implement your logistic regression model class including methods for fitting the data using gradient descent. Using that model you'll test it out and plot learning curves to verify the model learns as you train it and to identify and appropriate learning rate hyperparameter. Lastly, in Part V you will apply the model you designed, implemented, and verified to your actual data and evaluate and visualize its generalization performance as compared to a KNN algorithm. **When complete, you will have accomplished learning objectives 1-5 above!**\n",
    "\n",
    "### I. Load, prepare, and plot your data\n",
    "You are given some data for which you are tasked with constructing a classifier. The first step when facing any machine learning project: look at your data!\n",
    "\n",
    "**(a)** Load the data. \n",
    "- In the data folder in the same directory of this notebook, you'll find the data in `A3_Q1_data.csv`. This file contains the binary class labels, $y$, and the features $x_1$ and $x_2$.\n",
    "- Divide your data into a training and testing set where the test set accounts for 30 percent of the data and the training set the remaining 70 percent.  \n",
    "- Plot the training data by class. \n",
    "- Comment on the data: do the data appear separable? May logistic regression be a good choice for these data? Why or why not?\n",
    "\n",
    "**(b)** Do the data require any preprocessing due to missing values, scale differences (e.g. different ranges of values), etc.? If so, how did you handle these issues?\n",
    "\n",
    "Next, we walk through our key steps for model fitting: choose a hypothesis set of models to train (in this case, logistic regression); identify a cost function to measure the model fit to our training data; optimize model parameters to minimize cost (in this case using gradient descent). Once we've completed model fitting, we will evaluate the performance of our model and compare performance to another approach (a KNN classifier)."
   ]
  },
  {
   "cell_type": "code",
   "execution_count": null,
   "metadata": {},
   "outputs": [],
   "source": [
    "import pandas as pd\n",
    "import numpy as np\n",
    "from sklearn.model_selection import train_test_split\n",
    "import matplotlib.pyplot as plt\n",
    "import warnings\n",
    "import sklearn\n",
    "\n",
    "# import dataset and split in test and train\n",
    "db = pd.read_csv(\n",
    "    \"https://github.com/kylebradbury/ids705/raw/main/assignments/data/A3_Q1_data.csv\"\n",
    ")\n",
    "\n",
    "X = db[[\"x1\", \"x2\"]].values\n",
    "y = db[\"y\"].values\n",
    "X_train, X_test, y_train, y_test = train_test_split(\n",
    "    X, y, test_size=0.30, random_state=42\n",
    ")\n",
    "\n",
    "# plot train data\n",
    "\n",
    "plt.figure(figsize=(8, 4))\n",
    "plt.scatter(\n",
    "    X_train[y_train == 0][:, 0],\n",
    "    X_train[y_train == 0][:, 1],\n",
    "    color=\"orange\",\n",
    "    label=\"Class 0\",\n",
    ")\n",
    "plt.scatter(\n",
    "    X_train[y_train == 1][:, 0],\n",
    "    X_train[y_train == 1][:, 1],\n",
    "    color=\"grey\",\n",
    "    label=\"Class 1\",\n",
    ")\n",
    "plt.title(\"Train data\")\n",
    "plt.xlabel(\"Feature 1\")\n",
    "plt.ylabel(\"Feature 2\")\n",
    "plt.legend()\n",
    "plt.grid(True)\n",
    "plt.show()"
   ]
  },
  {
   "cell_type": "markdown",
   "metadata": {},
   "source": [
    "The data appears to be separable, a logistic regression might be the best choice as a sigmoid function could fit the data best. However such function might have trouble classifying the values shown at the center of the scattter plot. "
   ]
  },
  {
   "cell_type": "code",
   "execution_count": null,
   "metadata": {},
   "outputs": [],
   "source": [
    "plt.figure(figsize=(5, 5))\n",
    "plt.boxplot(X, labels=[\"X1\", \"X2\"])\n",
    "plt.title(\"Boxplot Features\")\n",
    "plt.xlabel(\"Features\")\n",
    "plt.ylabel(\"Values\")\n",
    "plt.show()\n",
    "\n",
    "\n",
    "num_bins = 10\n",
    "\n",
    "# Create histograms\n",
    "plt.figure(figsize=(7, 5))\n",
    "for i in range(X.shape[1]):\n",
    "    plt.subplot(1, X.shape[1], i + 1)\n",
    "    plt.hist(X[:, i], bins=15, alpha=0.7)\n",
    "    plt.title(f\"Column {i+1} Histogram\")\n",
    "    plt.xlabel(\"Value\")\n",
    "    plt.ylabel(\"Frequency\")\n",
    "\n",
    "plt.tight_layout()\n",
    "plt.show()"
   ]
  },
  {
   "cell_type": "code",
   "execution_count": null,
   "metadata": {},
   "outputs": [],
   "source": [
    "db.describe()"
   ]
  },
  {
   "cell_type": "markdown",
   "metadata": {},
   "source": [
    "\n",
    "The data does not require any preprocessing as the range of values does not show outliers and missing values are not present. All of the former can be determined by visualizing the distribution via boxplots, histograms and using tools to describe the data. "
   ]
  },
  {
   "cell_type": "markdown",
   "metadata": {},
   "source": [
    "### II. Stating the hypothesis set of models to evaluate (we'll use logistic regression)\n",
    "\n",
    "Given that our data consists of two features, our logistic regression problem will be applied to a two-dimensional feature space. Recall that our logistic regression model is:\n",
    "\n",
    "$$f(\\mathbf{x}_i,\\mathbf{w})=\\sigma(\\mathbf{w}^{\\top} \\mathbf{x}_i)$$\n",
    "\n",
    "where the sigmoid function is defined as $\\sigma(x) = \\dfrac{e^x}{1+e^{x}}= \\dfrac{1}{1+e^{-x}}$. Also, since this is a two-dimensional problem, we define $\\mathbf{w}^{\\top} \\mathbf{x}_i = w_0 x_{i,0} + w_1 x_{i,1} + w_2 x_{i,2}$ and here, $\\mathbf{x}_i=[x_{i,0}, x_{i,1}, x_{i,2}]^{\\top}$, and $x_{i,0} \\triangleq 1$\n",
    "\n",
    "Remember from class that we interpret our logistic regression classifier output (or confidence score) as the conditional probability that the target variable for a given sample $y_i$ is from class \"1\", given the observed features, $\\mathbf{x}_i$. For one sample, $(y_i, \\mathbf{x}_i)$, this is given as:\n",
    "\n",
    "$$P(Y=1|X=\\mathbf{x}_i) = f(\\mathbf{x}_i,\\mathbf{w})=\\sigma(\\mathbf{w}^{\\top} \\mathbf{x}_i)$$\n",
    "\n",
    "In the context of maximizing the likelihood of our parameters given the data, we define this to be the likelihood function $L(\\mathbf{w}|y_i,\\mathbf{x}_i)$, corresponding to one sample observation from the training dataset.\n",
    "\n",
    "*Aside: the careful reader will recognize this expression looks different from when we talk about the likelihood of our data given the true class label, typically expressed as $P(x|y)$, or the posterior probability of a class label given our data, typically expressed as $P(y|x)$. In the context of training a logistic regression model, the likelihood we are interested in is the likelihood function of our logistic regression **parameters**, $\\mathbf{w}$. It's our goal to use this to choose the parameters to maximize the likelihood function.*\n",
    "\n",
    "**No output is required for this section - just read and use this information in the later sections.**"
   ]
  },
  {
   "attachments": {},
   "cell_type": "markdown",
   "metadata": {},
   "source": [
    "### III. Find the cost function that we can use to choose the model parameters, $\\mathbf{w}$, that best fit the training data.\n",
    "\n",
    "**(c)** What is the likelihood function that corresponds to all the $N$ samples in our training dataset that we will wish to maximize? Unlike the likelihood function written above which gives the likelihood function for a *single training data pair* $(y_i, \\mathbf{x}_i)$, this question asks for the likelihood function for the *entire training dataset* $\\{(y_1, \\mathbf{x}_1), (y_2, \\mathbf{x}_2), ..., (y_N, \\mathbf{x}_N)\\}$. \n",
    "\n",
    "**(d)** Since a logarithm is a monotonic function, maximizing the $f(x)$ is equivalent to maximizing $\\ln [f(x)]$. Express the likelihood from the last question as a cost function of the model parameters, $C(\\mathbf{w})$; that is the negative of the logarithm of the likelihood. Express this cost as an average cost per sample (i.e. divide your final value by $N$), and use this quantity going forward as the cost function to optimize.\n",
    "\n",
    "**(e)** Calculate the gradient of the cost function with respect to the model parameters $\\nabla_{\\mathbf{w}}C(\\mathbf{w})$. Express this in terms of the partial derivatives of the cost function with respect to each of the parameters, e.g. $\\nabla_{\\mathbf{w}}C(\\mathbf{w}) = \\left[\\dfrac{\\partial C}{\\partial w_0}, \\dfrac{\\partial C}{\\partial w_1}, \\dfrac{\\partial C}{\\partial w_2}\\right]$. \n",
    "\n",
    "To simplify notation, please use $\\mathbf{w}^{\\top}\\mathbf{x}$ instead of writing out $w_0 x_{i,0} + w_1 x_{i,1} + w_2 x_{i,2}$ when it appears each time (where $x_{i,0} = 1$ for all $i$). You are also welcome to use $\\sigma()$ to represent the sigmoid function. Lastly, this will be a function the features, $x_{i,j}$ (with the first index in the subscript representing the observation and the second the feature; targets, $y_i$; and the logistic regression model parameters, $w_j$.\n",
    "\n",
    "**(f)** Write out the gradient descent update equation. This should clearly express how to update each weight from one step in gradient descent $w_j^{(k)}$ to the next $w_j^{(k+1)}$.  There should be one equation for each model logistic regression model parameter (or you can represent it in vectorized form). Assume that $\\eta$ represents the learning rate."
   ]
  },
  {
   "cell_type": "markdown",
   "metadata": {},
   "source": [
    "c)\n",
    "\n",
    "$$\n",
    "\\begin{aligned}\n",
    "L(\\omega)=\\prod_{i=1}^N P\\left(\\omega, x_1\\right)^{y_i}\\left[1-P\\left(\\omega x_1\\right)\\right]^{\\left(1-y_i\\right)}\n",
    "\\end{aligned}\n",
    "$$\n",
    "\n",
    "$$\n",
    "\\begin{aligned}\n",
    "L(\\omega \\mid y, x) & =\\prod_{i=1}^N \\sigma\\left(\\omega^{\\top} x_i\\right)^{y_i}\\left[1-\\sigma\\left(\\omega^{\\top} x_i\\right)\\right]^{1-y_i} \\\\\n",
    "& =\\prod_{i=1}^N \\hat{y}_1^{y_i}\\left[1-\\hat{y}_i\\right]^{1-y_i} \\leftarrow \\operatorname{assuming} \\hat{y} \\triangleq \\sigma\\left(\\omega^{\\top} x_i\\right)\n",
    "\\end{aligned}\n",
    " \n",
    "\n"
   ]
  },
  {
   "cell_type": "markdown",
   "metadata": {},
   "source": [
    "d)\n",
    "\n",
    "$$\n",
    "\\begin{aligned}\n",
    "&c(\\omega)=-\\log L\\left(\\omega \\mid y_i x\\right) \\\\ & \n",
    "c(\\omega)=-\\frac{1}{N}\\left[\\sum_{i=1}^N y_i \\log \\left(\\hat{y}_i\\right)+\\left(1+y_i\\right) \\log \\left(1-\\hat{y}_i\\right)\\right]\\leftarrow \\operatorname{assuming} \\hat{y} \\triangleq \\sigma\\left(\\omega^{\\top} x_i\\right)\n",
    "\\end{aligned}\n",
    "$$"
   ]
  },
  {
   "cell_type": "markdown",
   "metadata": {},
   "source": [
    "e)\n",
    "\n",
    "$$\n",
    "\\begin{gathered}\n",
    "c(\\omega)=-\\frac{1}{N} \\sum_{i=1}^N \\underbrace{y_i \\log (\\sigma z)+\\left(1-y_i\\right) \\log (1-\\sigma)}_L \\text {, where } \\hat{y}=\\sigma(\\underbrace{\\omega^{\\top} x}_Z) \n",
    "\\end{gathered}\n",
    "$$\n",
    "\n",
    "$$\n",
    "\\begin{gathered}\n",
    "\\frac{\\partial L}{\\partial w}=\\frac{\\partial L}{\\partial \\sigma} \\frac{\\partial \\sigma}{\\partial z} \\frac{\\partial z}{\\partial \\omega}\n",
    "\\end{gathered}\n",
    "$$\n",
    "\n",
    "\n",
    "\n",
    "\n",
    "$$\n",
    "\\begin{aligned}\n",
    "\\frac{\\partial L}{\\partial \\sigma}=\\frac{Y_i}{\\sigma z_i}+\\frac{\\left(-1+y_i\\right)}{1-\\sigma z_i} & =\\frac{Y_i-\\sigma z_i Y_i-\\sigma z_i+y \\sigma z_i}{\\sigma z_i\\left(1-\\sigma z_i\\right)}= \\\\\n",
    "\n",
    "& =\\frac{Y_i-\\sigma z_i}{\\sigma\\left(z_i\\right)\\left(1-\\sigma\\left(z_i\\right)\\right.}\n",
    "\\end{aligned}\n",
    "$$\n",
    "$$\n",
    "\\begin{aligned}\n",
    "\\frac{\\partial \\sigma}{\\partial z}=\\frac{e^{-z}}{\\left(1+e^{-z}\\right)^2} & =\\frac{1}{1+e^{-2}}-\\frac{1}{\\left(1+e^{-2}\\right)^2}= \\\\\n",
    "& =\\sigma\\left(z_i\\right)-\\sigma^2\\left(z_i\\right)= \\\\\n",
    "& =\\sigma\\left(z_i\\right)\\left[1-\\sigma\\left(z_i\\right)\\right.\n",
    "\\end{aligned}\n",
    "$$\n",
    "\n",
    "$$\n",
    "\\begin{aligned}\n",
    "& \\frac{\\partial z_i}{\\partial \\omega}=x_i\n",
    "\\end{aligned}\n",
    "$$\n",
    "\n",
    "$$\n",
    "\\begin{aligned}\n",
    "\\frac{\\partial L}{\\partial w} & =\\left[\\frac{y_1-\\sigma(z)}{\\sigma(z)(1-\\sigma(z)}\\right] \\sigma\\left(z_i\\right)\\left[1-\\sigma\\left(z_i\\right)\\right] x_i= \\\\\n",
    "& =\\left[y_i-\\sigma(z)\\right] x_i\n",
    "\\end{aligned} \n",
    "$$\n",
    "$$\n",
    "\\begin{aligned}\n",
    "\\nabla_{\\mathbf{w}}C(\\mathbf{w}) =-\\frac{1}{N}\\sum_{i=1}^N\\left[\\left(y_i-\\sigma(z)\\right] x_i\\right.\n",
    "\\end{aligned}\n",
    "$$\n",
    "\n"
   ]
  },
  {
   "cell_type": "markdown",
   "metadata": {},
   "source": [
    "f)\n",
    "\n",
    "$\\begin{aligned} \\omega^{(n+1)} & =\\omega^{(n)}-\\lambda \\nabla C(\\omega), \\text { where } \\nabla C(\\omega)=-\\frac{1}{N} \\sum_{i=1}^N\\left[y_i-\\sigma(z)\\right] x_i, z=\\omega^T x_i \\\\ {\\left[\\begin{array}{l}\\omega_0^{k+1} \\\\ \\omega_1^{k+1} \\\\ \\omega_2^{k+1}\\end{array}\\right] } & =\\left[\\begin{array}{l}\\omega_0^k \\\\ \\omega_1^k \\\\ \\omega_2^k\\end{array}\\right]-\\lambda\\left[\\begin{array}{c}\\frac{\\partial C}{\\partial \\omega_0} \\\\ \\frac{\\partial c}{\\partial \\omega_1} \\\\ \\frac{\\partial c}{\\omega_2}\\end{array}\\right] \\\\ & =\\left[\\begin{array}{l}\\omega_0^k \\\\ \\omega_k^k \\\\ \\omega_0^k\\end{array}\\right]-\\lambda\\left(\\begin{array}{c}\\frac{1}{N} \\sum_{i=1}^N\\left[\\sigma z-y_i\\right] x_i 0 \\\\ \\frac{1}{N} \\sum_{i=1}^N\\left[\\sigma z-y_1\\right] x_{i, 1} \\\\ \\frac{1}{N} \\sum_{i=1}^N\\left[\\sigma z-y_i\\right] x_i .2\\end{array}\\right)\\end{aligned}$"
   ]
  },
  {
   "cell_type": "markdown",
   "metadata": {},
   "source": [
    "### IV. Implement gradient descent and your logistic regression algorithm\n",
    "\n",
    "**(g)** Implement your logistic regression model. \n",
    "- You are provided with a template, below, for a class with key methods to help with your model development. It is modeled on the Scikit-Learn convention. For this, you only need to create a version of logistic regression for the case of two feature variables (i.e. two predictors).\n",
    "- Create a method called `sigmoid` that calculates the sigmoid function\n",
    "- Create a method called `cost` that computes the cost function $C(\\mathbf{w})$ for a given dataset and corresponding class labels. This should be the **average cost** (make sure your total cost is divided by your number of samples in the dataset).\n",
    "- Create a method called `gradient_descent` to run **one step** of gradient descent on your training data. We'll refer to this as \"batch\" gradient descent since it takes into account the gradient based on all our data at each iteration of the algorithm. \n",
    "- Create a method called `fit` that fits the model to the data (i.e. sets the model parameters to minimize cost) using your `gradient_descent` method. In doing this we'll need to make some assumptions about the following:\n",
    "    - Weight initialization. What should you initialize the model parameters to? For this, randomly initialize the weights to a different values between 0 and 1.\n",
    "    - Learning rate. How slow/fast should the algorithm step towards the minimum? This you will vary in a later part of this problem.\n",
    "    - Stopping criteria. When should the algorithm be finished searching for the optimum? There are two stopping criteria: small changes in the gradient descent step size and a maximum number of iterations. The first is whether there was a sufficiently small change in the gradient; this is evaluated as whether the magnitude of the step that the gradient descent algorithm takes changes by less than $10^{-6}$ between iterations. Since we have a weight vector, we can compute the change in the weight by evaluating the $L_2$ norm (Euclidean norm) of the change in the vector between iterations. From our gradient descent update equation we know that mathematically this is $||-\\eta\\nabla_{\\mathbf{w}}C(\\mathbf{w})||$. The second criterion is met if a maximum number of iterations has been reach (5,000 in this case, to prevent infinite loops from poor choices of learning rates).\n",
    "    - Design your approach so that at each step in the gradient descent algorithm you evaluate the cost function for both the training and the test data for each new value for the model weights. You should be able to plot cost vs gradient descent iteration for both the training and the test data. This will allow you to plot \"learning curves\" that can be informative for how the model training process is proceeding.\n",
    "- Create a method called `predict_proba` that predicts confidence scores (that can be thresholded into the predictions of the `predict` method.\n",
    "- Create a method called `predict` that makes predictions based on the trained model, selecting the most probable class, given the data, as the prediction, that is class that yields the larger $P(y|\\mathbf{x})$.\n",
    "- (Optional, but recommended) Create a method called `learning_curve` that produces the cost function values that correspond to each step from a previously run gradient descent operation.\n",
    "- (Optional, but recommended) Create a method called `prepare_x` which appends a column of ones as the first feature of the dataset $\\mathbf{X}$ to account for the bias term ($x_{i,1}=1$).\n",
    "\n",
    "This structure is strongly encouraged; however, you're welcome to adjust this to your needs (adding helper methods, modifying parameters, etc.)."
   ]
  },
  {
   "cell_type": "code",
   "execution_count": 4,
   "metadata": {},
   "outputs": [],
   "source": [
    "# Logistic regression class\n",
    "class Logistic_regression:\n",
    "    # Class constructor\n",
    "    def __init__(self):\n",
    "        self.w = None  # logistic regression weights\n",
    "        self.saved_w = []  # Since this is a small problem, we can save the weights\n",
    "        #  at each iteration of gradient descent to build our\n",
    "        #  learning curves\n",
    "        # returns nothing\n",
    "        pass\n",
    "\n",
    "    # Method for calculating the sigmoid function of w^T X for an input set of weights\n",
    "    def sigmoid(self, X, w):\n",
    "        z = w.T @ X\n",
    "        sigmoid = 1 / (1 + np.exp(-z))\n",
    "        return sigmoid  # returns the value of the sigmoid\n",
    "        # pass\n",
    "\n",
    "    # Cost function for an input set of weights\n",
    "    def cost(self, X, y, w):\n",
    "        N = X.shape[1]\n",
    "        L = y * np.log(self.sigmoid(X, w)) + (1 - y) * np.log(self.sigmoid(X, w))\n",
    "        ce = -(1 / N) * np.sum(L)\n",
    "        return ce\n",
    "\n",
    "    # Update the weights in an iteration of gradient descent\n",
    "    def gradient_descent(self, X, y, lr):\n",
    "        # returns a scalar of the magnitude of the Euclidean norm\n",
    "        #  of the change in the weights during one gradient descent step\n",
    "        N = X.shape[1]\n",
    "        gd = -(1 / N) * (y - self.sigmoid(X, self.w)) @ X.T  # cambiar my_w por seld.w\n",
    "        me = np.linalg.norm(gd)\n",
    "        self.w = self.w - (lr * gd).T\n",
    "        return me\n",
    "\n",
    "    # returns a scalar of the magnitude of the Euclidean norm\n",
    "    #  of the change in the weights during one gradient descent step\n",
    "\n",
    "    # Fit the logistic regression model to the data through gradient descent\n",
    "    def fit(self, X, y, w_init, lr, delta_thresh=1e-6, max_iter=5000, verbose=False):\n",
    "        # Note the verbose flag enables you to print out the weights at each iteration\n",
    "        #  (optional - but may help with one of the questions)\n",
    "        # returns nothing\n",
    "        self.w = w_init\n",
    "\n",
    "        for i in range(max_iter):\n",
    "            # Update weights using gradient descent\n",
    "            self.gradient_descent(X, y, lr)\n",
    "            self.saved_w.append(self.w)\n",
    "            if self.gradient_descent(X, y, lr) < delta_thresh:\n",
    "                break\n",
    "        if verbose:\n",
    "            print(self.saved_w)\n",
    "\n",
    "    # Use the trained model to predict the confidence scores (prob of positive class in this case)\n",
    "    def predict_proba(self, X):\n",
    "        proba = self.sigmoid(X, self.w)\n",
    "        return proba\n",
    "\n",
    "    # Use the trained model to make binary predictions\n",
    "    def predict(self, X, thresh=0.5):\n",
    "        # returns a binary prediction for each sample\n",
    "        predited = (self.predict_proba(X) > thresh).astype(int)\n",
    "        return predited\n",
    "\n",
    "    # Stores the learning curves from saved weights from gradient descent\n",
    "    def learning_curve(self, X, y):\n",
    "        # returns the value of the cost function from each step in gradient descent\n",
    "        #  from the last model fitting process\n",
    "        costs = []\n",
    "        for myw in self.saved_w:\n",
    "            cost_value = self.cost(X, y, myw)\n",
    "            costs.append(cost_value)\n",
    "        return costs\n",
    "\n",
    "    # Appends a column of ones as the first feature to account for the bias term\n",
    "    def prepare_x(self, X):\n",
    "        # returns the X with a new feature of all ones (a column that is the new column 0)\n",
    "        xplus1 = np.vstack((np.ones((1, X.shape[1])), X))\n",
    "        return xplus1"
   ]
  },
  {
   "cell_type": "code",
   "execution_count": null,
   "metadata": {},
   "outputs": [],
   "source": [
    "# delete, this is for testing the class\n",
    "import numpy as np\n",
    "\n",
    "w = np.array([[1], [2]])\n",
    "lr = 0.001\n",
    "np.random.seed(123)\n",
    "w_init = np.random.rand(2, 1)\n",
    "\n",
    "\n",
    "test_clas = Logistic_regression()\n",
    "\n",
    "\n",
    "test_clas.fit(\n",
    "    X_train, y_train, w_init, lr, delta_thresh=1e-1, max_iter=5000, verbose=False\n",
    ")\n",
    "test_clas.predict_proba(X_test)\n",
    "test_clas.learning_curve(X_test, y_test)\n",
    "test_clas.prepare_x(X_test)"
   ]
  },
  {
   "attachments": {},
   "cell_type": "markdown",
   "metadata": {},
   "source": [
    "**(h)** Choose a learning rate and fit your model. Learning curves are a plot of metrics of model performance evaluated through the process of model training to provide insights about how model training is proceeding. Show the learning curves for the gradient descent process for learning rates of $\\{10^{-0}, 10^{-2}, 10^{-4}\\}$. For each learning rate plot the learning curves by plotting **both the training and test data average cost** as a function of each iteration of gradient descent. You should run the model fitting process until it completes (up to 5,000 iterations of gradient descent). All of the 6 resulting curves (train and test average cost for each learning rate) should be plotted on the **same set of axes** to enable direct comparison. *Note: make sure you're using average cost per sample, not the total cost*.\n",
    "- Try running this process for a really big learning rate for this problem: $10^2$. Look at the weights that the fitting process generates over the first 50 iterations and how they change. Either print these first 50 iterations as console output or plot them. What happens? How does the output compare to that corresponding to a learning rate of $10^0$ and why?\n",
    "- What is the impact that the different values of learning have on the speed of the process and the results? \n",
    "- Of the options explored, what learning rate do you prefer and why?\n",
    "- Use your chosen learning rate for the remainder of this problem."
   ]
  },
  {
   "cell_type": "code",
   "execution_count": 2,
   "metadata": {},
   "outputs": [],
   "source": [
    "import numpy as np\n",
    "import pandas as pd\n",
    "from sklearn.model_selection import train_test_split\n",
    "\n",
    "\n",
    "db = pd.read_csv(\n",
    "    \"https://github.com/kylebradbury/ids705/raw/main/assignments/data/A3_Q1_data.csv\"\n",
    ")\n",
    "\n",
    "\n",
    "X = db[[\"x1\", \"x2\"]].values\n",
    "y = db[\"y\"].values\n",
    "X_train, X_test, y_train, y_test = train_test_split(\n",
    "    X, y, test_size=0.30, random_state=42\n",
    ")\n",
    "\n",
    "X_train = X_train.T\n",
    "X_test = X_test.T"
   ]
  },
  {
   "cell_type": "code",
   "execution_count": 5,
   "metadata": {},
   "outputs": [],
   "source": [
    "clf = Logistic_regression()\n",
    "\n",
    "\n",
    "w_init = np.random.rand(3, 1)\n",
    "\n",
    "X_train = clf.prepare_x(X_train)\n",
    "X_test = clf.prepare_x(X_test)\n",
    "\n",
    "model_1_t = Logistic_regression()\n",
    "model_2_t = Logistic_regression()\n",
    "model_3_t = Logistic_regression()\n",
    "\n",
    "\n",
    "model_1_t.fit(\n",
    "    X_train,\n",
    "    y_train,\n",
    "    w_init,\n",
    "    10 ** (-0),\n",
    "    delta_thresh=1e-6,\n",
    "    max_iter=5000,\n",
    "    verbose=False,\n",
    ")\n",
    "model_2_t.fit(\n",
    "    X_train,\n",
    "    y_train,\n",
    "    w_init,\n",
    "    10 ** (-2),\n",
    "    delta_thresh=1e-6,\n",
    "    max_iter=5000,\n",
    "    verbose=False,\n",
    ")\n",
    "model_3_t.fit(\n",
    "    X_train,\n",
    "    y_train,\n",
    "    w_init,\n",
    "    10 ** (-4),\n",
    "    delta_thresh=1e-6,\n",
    "    max_iter=5000,\n",
    "    verbose=False,\n",
    ")"
   ]
  },
  {
   "cell_type": "code",
   "execution_count": 9,
   "metadata": {},
   "outputs": [],
   "source": [
    "m_1_test_c = model_1_t.learning_curve(X_train, y_train)\n",
    "m_1_train_c = model_1_t.learning_curve(X_test, y_test)\n",
    "m_2_test_c = model_2_t.learning_curve(X_train, y_train)\n",
    "m_2_train_c = model_2_t.learning_curve(X_test, y_test)\n",
    "m_3_test_c = model_3_t.learning_curve(X_train, y_train)\n",
    "m_3_train_c = model_3_t.learning_curve(X_test, y_test)"
   ]
  },
  {
   "cell_type": "code",
   "execution_count": 12,
   "metadata": {},
   "outputs": [
    {
     "name": "stdout",
     "output_type": "stream",
     "text": [
      "m_1_test_c: 206\n",
      "m_1_train_c: 206\n",
      "m_2_test_c: 5000\n",
      "m_2_train_c: 5000\n",
      "m_3_test_c: 5000\n",
      "m_3_train_c: 5000\n"
     ]
    }
   ],
   "source": [
    "print(\"m_1_test_c:\", len(m_1_test_c))\n",
    "print(\"m_1_train_c:\", len(m_1_train_c))\n",
    "print(\"m_2_test_c:\", len(m_2_test_c))\n",
    "print(\"m_2_train_c:\", len(m_2_train_c))\n",
    "print(\"m_3_test_c:\", len(m_3_test_c))\n",
    "print(\"m_3_train_c:\", len(m_3_train_c))"
   ]
  },
  {
   "cell_type": "code",
   "execution_count": 18,
   "metadata": {},
   "outputs": [
    {
     "data": {
      "text/plain": [
       "[<matplotlib.lines.Line2D at 0x3a6bac710>]"
      ]
     },
     "execution_count": 18,
     "metadata": {},
     "output_type": "execute_result"
    },
    {
     "data": {
      "image/png": "[encoded data removed]",
      "text/plain": [
       "<Figure size 640x480 with 1 Axes>"
      ]
     },
     "metadata": {},
     "output_type": "display_data"
    }
   ],
   "source": [
    "import matplotlib.pyplot as plt\n",
    "\n",
    "x_values_1 = range(1, len(m_1_test_c) + 1)\n",
    "x_values_2 = range(1, len(m_2_test_c) + 1)\n",
    "x_values_3 = range(1, len(m_3_test_c) + 1)\n",
    "\n",
    "\n",
    "# Plot the curves\n",
    "plt.plot(x_values_1, m_1_test_c, label=\"m_1_test_c\")\n",
    "plt.plot(x_values_1, m_1_train_c, label=\"m_1_train_c\")\n",
    "plt.plot(x_values_2, m_2_test_c, label=\"m_2_test_c\")\n",
    "plt.plot(x_values_2, m_2_train_c, label=\"m_2_train_c\")\n",
    "plt.plot(x_values_3, m_3_test_c, label=\"m_3_test_c\")\n",
    "plt.plot(x_values_3, m_3_train_c, label=\"m_3_train_c\")"
   ]
  },
  {
   "attachments": {},
   "cell_type": "markdown",
   "metadata": {},
   "source": [
    "### V. Evaluate your model performance through cross validation\n",
    "\n",
    "**(i)** Test the performance of your trained classifier using K-folds cross validation resampling technique. The scikit-learn package [StratifiedKFolds](http://scikit-learn.org/stable/modules/generated/sklearn.model_selection.StratifiedKFold.html#sklearn.model_selection.StratifiedKFold) may be helpful. \n",
    "- Train your logistic regression model and a K-Nearest Neighbor classification model with $k=7$ nearest neighbors.\n",
    "- Using the trained models, make four plots: two for logistic regression and two for KNN. For each model have one plot showing the training data used for fitting the model, and the other showing the test data. On each plot, include the decision boundary resulting from your trained classifier.\n",
    "- Produce a Receiver Operating Characteristic curve (ROC curve) that represents the performance from cross validated performance evaluation for each classifier (your logistic regression model and the KNN model, with $k=7$ nearest neighbors). For the cross validation, use $k=10$ folds. \n",
    "  - Plot these curves on the same set of axes to compare them. You should not plot one curve for each fold of k-folds; instead, you should plot one ROC curve for Logistic Regression and one for KNN (each should incorporate all 10 folds of validation). Also, don't forget to plot the \"chance\" line.\n",
    "  - On the ROC curve plot, also include the chance diagonal for reference (this represents the performance of the worst possible classifier). This is represented as a line from $(0,0)$ to $(1,1)$.\n",
    "  - Calculate the Area Under the Curve for each model and include this measure in the legend of the ROC plot.\n",
    "- Comment on the following:\n",
    "  - What is the purpose of using cross validation for this problem?\n",
    "  - How do the models compare in terms of performance (both ROC curves and decision boundaries) and which model (logistic regression or KNN) would you select to use on previously unseen data for this problem and why?"
   ]
  },
  {
   "cell_type": "code",
   "execution_count": null,
   "metadata": {},
   "outputs": [],
   "source": []
  },
  {
   "cell_type": "markdown",
   "metadata": {},
   "source": [
    "**ANSWER**"
   ]
  },
  {
   "attachments": {},
   "cell_type": "markdown",
   "metadata": {},
   "source": [
    "# 2\n",
    "\n",
    "## Digits classification\n",
    "**[30 points]**\n",
    "\n",
    "*An exploration of regularization, imbalanced classes, ROC and PR curves*\n",
    "\n",
    "The goal of this exercise is to apply your supervised learning skills on a very different dataset: in this case, image data; MNIST: a collection of images of handwritten digits. Your goal is to train a classifier that is able to distinguish the number \"3\" from all possible numbers and to do so as accurately as possible. You will first explore your data (this should always be your starting point to gain domain knowledge about the problem.). Since the feature space in this problem is 784-dimensional, overfitting is possible. To avoid overfitting you will investigate the impact of regularization on generalization performance (test accuracy) and compare regularized and unregularized logistic regression model test error against other classification techniques such as linear discriminant analysis and random forests and draw conclusions about the best-performing model.\n",
    "\n",
    "Start by loading your dataset from the [MNIST dataset](http://yann.lecun.com/exdb/mnist/) of handwritten digits, using the code provided below. MNIST has a training set of 60,000 examples, and a test set of 10,000 examples. The digits have been size-normalized and centered in a fixed-size image.\n",
    "\n",
    "Your goal is to classify whether or not an example digit is a 3. Your binary classifier should predict $y=1$ if the digit is a 3, and $y=0$ otherwise. Create your dataset by transforming your labels into a binary format (3's are class 1, and all other digits are class 0). "
   ]
  },
  {
   "attachments": {},
   "cell_type": "markdown",
   "metadata": {},
   "source": [
    "\n",
    "**(a)** Plot 10 examples of each class (i.e. class $y=0$, which are not 3's and class $y=1$ which are 3's), from the training dataset.\n",
    "- Note that the data are composed of samples of length 784. These represent 28 x 28 images, but have been reshaped for storage convenience. To plot digit examples, you'll need to reshape the data to be 28 x 28 (which can be done with numpy `reshape`).\n",
    "\n",
    "**(b)** How many examples are present in each class? Show a plot of samples by class (bar plot). What fraction of samples are positive? What issues might this cause?\n",
    "\n",
    "**(c)** Identify the value of the regularization parameter that optimizes model performance on out-of-sample data. Using a logistic regression classifier, apply lasso regularization and retrain the model and evaluate its performance on the test set over a range of values on the regularization coefficient. You can implement this using the [LogisticRegression](http://scikit-learn.org/stable/modules/generated/sklearn.linear_model.LogisticRegression.html) module and activating the 'l1' penalty; the parameter $C$ is the inverse of the regularization strength. Vary the value of C logarithmically from $10^{-4}$ to $10^4$ (and make your x-axes logarithmic in scale) and evaluate it at least 20 different values of C. As you vary the regularization coefficient, Plot the following four quantities (this should result in 4 separate plots)... \n",
    "- The number of model parameters that are estimated to be nonzero (in the logistic regression model, one attribute is `coef_`, which gives you access to the model parameters for a trained model)\n",
    "- The cross entropy loss (which can be evaluated with the Scikit Learn `log_loss` function)\n",
    "- Area under the ROC curve (AUC)\n",
    "- The $F_1$-score (assuming a threshold of 0.5 on the predicted confidence scores, that is, scores above 0.5 are predicted as Class 1, otherwise Class 0). Scikit Learn also has a `f1_score` function which may be useful.\n",
    "-Which value of C seems best for this problem? Please select the closest power of 10. You will use this in the next part of this exercise.\n",
    "\n",
    "**(d)** Train and test a (1) logistic regression classifier with minimal regularization (using the Scikit Learn package, set penalty='l1', C=1e100 to approximate this), (2) a logistic regression classifier with the best value of the regularization parameter from the last section, (3) a Linear Discriminant Analysis (LDA) Classifier, and (4) a Random Forest (RF) classifier (using default parameters for the LDA and RF classifiers). \n",
    "- Compare your classifiers' performance using ROC and Precision Recall (PR) curves. For the ROC curves, all your curves should be plotted on the same set of axes so that you can directly compare them. Please do the same wih the PR curves.\n",
    "- Plot the line that represents randomly guessing the class (50% of the time a \"3\", 50% not a \"3\"). You SHOULD NOT actually create random guesses. Instead, you should think through the theory behind how ROC and PR curves work and plot the appropriate lines. It's a good practice to include these in ROC and PR curve plots as a reference point.\n",
    "- For PR curves, an excellent resource on how to correctly plot them can be found [here](https://classeval.wordpress.com/introduction/introduction-to-the-precision-recall-plot/) (ignore the section on \"non-linear interpolation between two points\"). This describes how a random classifier is represented in PR curves and demonstrates that it should provide a lower bound on performance.\n",
    "- When training your logistic regression model, it's recommended that you use solver=\"liblinear\"; otherwise, your results may not converge.\n",
    "- Describe the performance of the classifiers you compared. Did the regularization of the logistic regression model make much difference here? Which classifier you would select for application to unseen data."
   ]
  },
  {
   "cell_type": "code",
   "execution_count": null,
   "metadata": {},
   "outputs": [],
   "source": [
    "# Load the MNIST Data\n",
    "from sklearn.datasets import fetch_openml\n",
    "from sklearn.model_selection import train_test_split\n",
    "import numpy as np\n",
    "import matplotlib.pyplot as plt\n",
    "import pickle\n",
    "\n",
    "# Set this to True to download the data for the first time and False after the first time\n",
    "#   so that you just load the data locally instead\n",
    "download_data = True\n",
    "\n",
    "if download_data:\n",
    "    # Load data from https://www.openml.org/d/554\n",
    "    X, y = fetch_openml(\"mnist_784\", return_X_y=True, as_frame=False)\n",
    "\n",
    "    # Adjust the labels to be '1' if y==3, and '0' otherwise\n",
    "    y[y != \"3\"] = 0\n",
    "    y[y == \"3\"] = 1\n",
    "    y = y.astype(\"int\")\n",
    "\n",
    "    # Divide the data into a training and test split\n",
    "    X_train, X_test, y_train, y_test = train_test_split(\n",
    "        X, y, test_size=1 / 7, random_state=88\n",
    "    )\n",
    "\n",
    "    file = open(\"tmpdata\", \"wb\")\n",
    "    pickle.dump((X_train, X_test, y_train, y_test), file)\n",
    "    file.close()\n",
    "else:\n",
    "    file = open(\"tmpdata\", \"rb\")\n",
    "    X_train, X_test, y_train, y_test = pickle.load(file)\n",
    "    file.close()"
   ]
  },
  {
   "cell_type": "markdown",
   "metadata": {},
   "source": [
    "**ANSWER**"
   ]
  },
  {
   "cell_type": "markdown",
   "metadata": {},
   "source": [
    "**a)**"
   ]
  },
  {
   "cell_type": "code",
   "execution_count": null,
   "metadata": {},
   "outputs": [],
   "source": [
    "import matplotlib.pyplot as plt\n",
    "\n",
    "\n",
    "num_row = 4\n",
    "num_col = 5\n",
    "\n",
    "np.random.rand(268)\n",
    "random_0 = np.where(y_train == 0)[0]\n",
    "random_1 = np.where(y_train == 1)[0]\n",
    "list_not_3 = np.random.choice(random_0, size=10, replace=False).tolist()\n",
    "list_3 = np.random.choice(random_1, size=10, replace=False).tolist()\n",
    "\n",
    "\n",
    "fig, axes = plt.subplots(num_row, num_col, figsize=(10, 5))\n",
    "\n",
    "# 3\n",
    "for i, idx in enumerate(list_3):\n",
    "    ax = axes[i // num_col, i % num_col]\n",
    "    ax.imshow(np.reshape(X_train[idx], (28, 28)), cmap=\"gray_r\")\n",
    "    ax.set_title(\"Class 1, (3)\")\n",
    "    ax.axis(\"off\")\n",
    "\n",
    "# not 3\n",
    "for i, idx in enumerate(list_not_3):\n",
    "    ax = axes[(i + len(list_3)) // num_col, (i + len(list_3)) % num_col]\n",
    "    ax.imshow(np.reshape(X_train[idx], (28, 28)), cmap=\"gray_r\")\n",
    "    ax.set_title(\"Class 0, (Not 3)\")\n",
    "    ax.axis(\"off\")\n",
    "\n",
    "plt.tight_layout()\n",
    "plt.show()"
   ]
  },
  {
   "cell_type": "markdown",
   "metadata": {},
   "source": [
    "**b)**"
   ]
  },
  {
   "cell_type": "markdown",
   "metadata": {},
   "source": [
    "**(b)** How many examples are present in each class? Show a plot of samples by class (bar plot). What fraction of samples are positive? What issues might this cause?\n",
    "\n",
    "- For the train data, 53871 examples are present for class 0 (not 3) and 6129 are present for class 1 (3). \n",
    "- The fraction of samples that are positive is ~ 1/10 or 10%\n",
    "- The issues that this might is a biased model that is overfit and not generalizable. "
   ]
  },
  {
   "cell_type": "code",
   "execution_count": null,
   "metadata": {},
   "outputs": [],
   "source": [
    "u_v, counts = np.unique(y_train, return_counts=True)\n",
    "\n",
    "colors = [\"gold\", \"purple\"]\n",
    "plt.figure(figsize=(5, 5))\n",
    "\n",
    "for i, (value, count) in enumerate(zip(u_v, counts)):\n",
    "    plt.bar(i, count, color=colors[value])\n",
    "\n",
    "plt.xticks([])\n",
    "\n",
    "# Add count value on top of each bar\n",
    "for i, count in enumerate(counts):\n",
    "    plt.text(i, count, count, ha=\"center\", va=\"bottom\")\n",
    "\n",
    "plt.legend([\"Not 3\", \"3\"], title=\"Unique Values\", loc=\"upper right\")\n",
    "\n",
    "plt.title(\"Examples of both 3 and not 3 in Train data\")"
   ]
  },
  {
   "cell_type": "code",
   "execution_count": null,
   "metadata": {},
   "outputs": [],
   "source": [
    "6129 / (6129 + 53871)"
   ]
  },
  {
   "cell_type": "markdown",
   "metadata": {},
   "source": [
    "**(c)** Identify the value of the regularization parameter that optimizes model performance on out-of-sample data. Using a logistic regression classifier, apply lasso regularization and retrain the model and evaluate its performance on the test set over a range of values on the regularization coefficient. You can implement this using the [LogisticRegression](http://scikit-learn.org/stable/modules/generated/sklearn.linear_model.LogisticRegression.html) module and activating the 'l1' penalty; the parameter $C$ is the inverse of the regularization strength. Vary the value of C logarithmically from $10^{-4}$ to $10^4$ (and make your x-axes logarithmic in scale) and evaluate it at least 20 different values of C. As you vary the regularization coefficient, Plot the following four quantities (this should result in 4 separate plots)... \n",
    "- The number of model parameters that are estimated to be nonzero (in the logistic regression model, one attribute is `coef_`, which gives you access to the model parameters for a trained model)\n",
    "- The cross entropy loss (which can be evaluated with the Scikit Learn `log_loss` function)\n",
    "- Area under the ROC curve (AUC)\n",
    "- The $F_1$-score (assuming a threshold of 0.5 on the predicted confidence scores, that is, scores above 0.5 are predicted as Class 1, otherwise Class 0). Scikit Learn also has a `f1_score` function which may be useful.\n",
    "-Which value of C seems best for this problem? Please select the closest power of 10. You will use this in the next part of this exercise.\n",
    "\n",
    "> The value of C that seems best for this problem is $10^{-2}$"
   ]
  },
  {
   "cell_type": "code",
   "execution_count": null,
   "metadata": {},
   "outputs": [],
   "source": [
    "from sklearn.metrics import auc\n",
    "from sklearn.metrics import roc_curve\n",
    "from sklearn.metrics import f1_score\n",
    "from sklearn.linear_model import LogisticRegression\n",
    "from sklearn.metrics import log_loss\n",
    "\n",
    "\n",
    "c_list = np.logspace(-4, 4, 20)\n",
    "param_list = []\n",
    "logloss_list = []\n",
    "auc_list = []\n",
    "f1_list = []\n",
    "\n",
    "for c in c_list:\n",
    "    model = LogisticRegression(penalty=\"l1\", C=c, solver=\"liblinear\", random_state=42)\n",
    "    model.fit(X_train, y_train)\n",
    "    y_hat = model.predict(X_test)\n",
    "    # print('C:', c)\n",
    "\n",
    "    # params\n",
    "    non_zero_parms = np.count_nonzero(model.coef_)\n",
    "    param_list.append(non_zero_parms)\n",
    "\n",
    "    # log loss\n",
    "    logloss = log_loss(y_test, y_hat)\n",
    "    # print('loglos', logloss)\n",
    "    logloss_list.append(logloss)\n",
    "\n",
    "    # AUC\n",
    "    fpr, tpr, thresholds = roc_curve(y_test, y_hat)\n",
    "    my_auc = auc(fpr, tpr)\n",
    "    # print('auc',my_auc)\n",
    "    auc_list.append(my_auc)\n",
    "\n",
    "    # f1\n",
    "    my_f = f1_score(y_test, y_hat, zero_division=1.0)\n",
    "    # print('f1 score:', my_f)\n",
    "    f1_list.append(my_f)"
   ]
  },
  {
   "cell_type": "code",
   "execution_count": null,
   "metadata": {},
   "outputs": [],
   "source": [
    "# plot params\n",
    "plt.figure(figsize=(5, 5))\n",
    "\n",
    "plt.plot(c_list, param_list)\n",
    "plt.xscale(\"log\")\n",
    "plt.xlabel(\"\")\n",
    "plt.ylabel(\"\")\n",
    "plt.title(\"Non Zero Parameters\")\n",
    "plt.show()\n",
    "\n",
    "# plot cross entropy\n",
    "plt.figure(figsize=(5, 5))\n",
    "plt.plot(c_list, logloss_list)\n",
    "plt.xscale(\"log\")\n",
    "plt.xlabel(\"\")\n",
    "plt.ylabel(\"\")\n",
    "plt.title(\"Cross entropy\")\n",
    "plt.show()\n",
    "\n",
    "# plot auc\n",
    "plt.figure(figsize=(5, 5))\n",
    "plt.xscale(\"log\")\n",
    "\n",
    "plt.plot(c_list, auc_list)\n",
    "plt.xlabel(\"\")\n",
    "plt.ylabel(\"\")\n",
    "plt.title(\"AUC \")\n",
    "plt.show()\n",
    "\n",
    "# plot f1\n",
    "plt.figure(figsize=(5, 5))\n",
    "plt.xscale(\"log\")\n",
    "\n",
    "plt.plot(c_list, f1_list)\n",
    "plt.xlabel(\"\")\n",
    "plt.ylabel(\"\")\n",
    "plt.title(\"F1 score\")\n",
    "plt.show()"
   ]
  },
  {
   "cell_type": "code",
   "execution_count": null,
   "metadata": {},
   "outputs": [],
   "source": [
    "f1_list.index(max(f1_list))\n",
    "c_list[5]"
   ]
  },
  {
   "cell_type": "markdown",
   "metadata": {},
   "source": [
    "**(d)** Train and test a (1) logistic regression classifier with minimal regularization (using the Scikit Learn package, set penalty='l1', C=1e100 to approximate this), (2) a logistic regression classifier with the best value of the regularization parameter from the last section, (3) a Linear Discriminant Analysis (LDA) Classifier, and (4) a Random Forest (RF) classifier (using default parameters for the LDA and RF classifiers). \n",
    "- Compare your classifiers' performance using ROC and Precision Recall (PR) curves. For the ROC curves, all your curves should be plotted on the same set of axes so that you can directly compare them. Please do the same wih the PR curves.\n",
    "- Plot the line that represents randomly guessing the class (50% of the time a \"3\", 50% not a \"3\"). You SHOULD NOT actually create random guesses. Instead, you should think through the theory behind how ROC and PR curves work and plot the appropriate lines. It's a good practice to include these in ROC and PR curve plots as a reference point.\n",
    "- For PR curves, an excellent resource on how to correctly plot them can be found [here](https://classeval.wordpress.com/introduction/introduction-to-the-precision-recall-plot/) (ignore the section on \"non-linear interpolation between two points\"). This describes how a random classifier is represented in PR curves and demonstrates that it should provide a lower bound on performance.\n",
    "- When training your logistic regression model, it's recommended that you use solver=\"liblinear\"; otherwise, your results may not converge.\n",
    "- Describe the performance of the classifiers you compared. Did the regularization of the logistic regression model make much difference here? Which classifier you would select for application to unseen data."
   ]
  },
  {
   "cell_type": "code",
   "execution_count": null,
   "metadata": {},
   "outputs": [],
   "source": [
    "from sklearn.discriminant_analysis import LinearDiscriminantAnalysis\n",
    "from sklearn.ensemble import RandomForestClassifier\n",
    "from sklearn.metrics import precision_recall_curve\n",
    "\n",
    "\"\"\"Model 1 Logistic Regression C=1e100\"\"\"\n",
    "lg_1 = LogisticRegression(penalty=\"l1\", C=1e100, solver=\"liblinear\", random_state=42)\n",
    "lg_1.fit(X_train, y_train)\n",
    "y_hat_lg1 = lg_1.predict_proba(X_test)[:, 1]\n",
    "\n",
    "fpr_lg1, tpr_lg1, _ = roc_curve(y_test, y_hat_lg1)\n",
    "roc_auc_lg1 = auc(fpr_lg1, tpr_lg1)\n",
    "\n",
    "p_lg1, r_lg1, _ = precision_recall_curve(y_test, y_hat_lg1)\n",
    "\n",
    "\n",
    "\"\"\"Model 2 Logistic Regression C=1e-2\"\"\"\n",
    "\n",
    "lg_2 = LogisticRegression(penalty=\"l1\", C=1e-2, solver=\"liblinear\", random_state=42)\n",
    "lg_2.fit(X_train, y_train)\n",
    "y_hat_lg2 = lg_2.predict_proba(X_test)[:, 1]\n",
    "\n",
    "fpr_lg2, tpr_lg2, _ = roc_curve(y_test, y_hat_lg2)\n",
    "roc_auc_lg2 = auc(fpr_lg2, tpr_lg2)\n",
    "\n",
    "p_lg2, r_lg2, _ = precision_recall_curve(y_test, y_hat_lg2)\n",
    "\n",
    "\n",
    "\"\"\"Model 3 Linear Discriminant Analysis (LDA) \"\"\"\n",
    "lda = LinearDiscriminantAnalysis()\n",
    "lda.fit(X_train, y_train)\n",
    "y_hat_lda = lda.predict_proba(X_test)[:, 1]\n",
    "\n",
    "fpr_lda, tpr_lda, _ = roc_curve(y_test, y_hat_lda)\n",
    "roc_auc_lda = auc(fpr_lda, tpr_lda)\n",
    "\n",
    "p_lda, r_lda, _ = precision_recall_curve(y_test, y_hat_lda)\n",
    "\n",
    "\n",
    "\"\"\"Model 4  Random Forest (RF) classifier\"\"\"\n",
    "rf = RandomForestClassifier()\n",
    "rf.fit(X_train, y_train)\n",
    "y_hat_rf = rf.predict_proba(X_test)[:, 1]\n",
    "\n",
    "fpr_rf, tpr_rf, _ = roc_curve(y_test, y_hat_rf)\n",
    "roc_auc_rf = auc(fpr_rf, tpr_rf)\n",
    "\n",
    "p_rf, r_rf, _ = precision_recall_curve(y_test, y_hat_rf)"
   ]
  },
  {
   "cell_type": "code",
   "execution_count": null,
   "metadata": {},
   "outputs": [],
   "source": [
    "plt.figure(figsize=(6.5, 6.5))\n",
    "\n",
    "plt.plot(\n",
    "    fpr_lg1,\n",
    "    tpr_lg1,\n",
    "    color=\"blue\",\n",
    "    lw=2,\n",
    "    label=\"Linear regression C=1e100 (AUC = %0.2f)\" % roc_auc_lg1,\n",
    ")\n",
    "plt.plot(\n",
    "    fpr_lg2,\n",
    "    tpr_lg2,\n",
    "    color=\"orange\",\n",
    "    lw=2,\n",
    "    label=\"Linear regression C=1e-2 (AUC = %0.2f)\" % roc_auc_lg2,\n",
    ")\n",
    "plt.plot(fpr_lda, tpr_lda, color=\"green\", lw=2, label=\"LDA (AUC = %0.2f)\" % roc_auc_lda)\n",
    "plt.plot(\n",
    "    fpr_rf,\n",
    "    tpr_rf,\n",
    "    color=\"purple\",\n",
    "    lw=2,\n",
    "    label=\"Random Forest (AUC = %0.2f)\" % roc_auc_rf,\n",
    ")\n",
    "\n",
    "plt.plot([0, 1], [0, 1], color=\"red\", linestyle=\"--\", label=\"Random Guess\")\n",
    "\n",
    "plt.title(\"ROC curve for 4 different models\")\n",
    "\n",
    "plt.legend(loc=\"lower right\")\n",
    "plt.show()"
   ]
  },
  {
   "cell_type": "code",
   "execution_count": null,
   "metadata": {},
   "outputs": [],
   "source": [
    "plt.figure(figsize=(6.5, 6.5))\n",
    "\n",
    "plt.plot(r_lg1, p_lg1, label=\"Linear regression C=1e100\", color=\"blue\")\n",
    "plt.plot(r_lg2, p_lg2, label=\"Linear regression C=1e-2\", color=\"orange\")\n",
    "plt.plot(r_lda, p_lda, label=\"LDA\", color=\"green\")\n",
    "plt.plot(r_rf, p_rf, label=\"Random Forest\", color=\"purple\")\n",
    "\n",
    "plt.axhline(y=0.5, color=\"red\", linestyle=\"--\", label=\"Random Guess\")\n",
    "\n",
    "\n",
    "plt.legend(loc=\"lower right\")\n",
    "plt.xlabel(\"Recall\")\n",
    "plt.ylabel(\"Precision\")\n",
    "plt.title(\"Precision-Recall curve for 4 models\")\n",
    "\n",
    "\n",
    "plt.show()"
   ]
  },
  {
   "cell_type": "markdown",
   "metadata": {},
   "source": [
    "- Describe the performance of the classifiers you compared. Did the regularization of the logistic regression model make much difference here? Which classifier you would select for application to unseen data.\n",
    "\n"
   ]
  }
 ],
 "metadata": {
  "kernelspec": {
   "display_name": "Python 3",
   "language": "python",
   "name": "python3"
  },
  "language_info": {
   "codemirror_mode": {
    "name": "ipython",
    "version": 3
   },
   "file_extension": ".py",
   "mimetype": "text/x-python",
   "name": "python",
   "nbconvert_exporter": "python",
   "pygments_lexer": "ipython3",
   "version": "3.11.5"
  },
  "varInspector": {
   "cols": {
    "lenName": 16,
    "lenType": 16,
    "lenVar": 40
   },
   "kernels_config": {
    "python": {
     "delete_cmd_postfix": "",
     "delete_cmd_prefix": "del ",
     "library": "var_list.py",
     "varRefreshCmd": "print(var_dic_list())"
    },
    "r": {
     "delete_cmd_postfix": ") ",
     "delete_cmd_prefix": "rm(",
     "library": "var_list.r",
     "varRefreshCmd": "cat(var_dic_list()) "
    }
   },
   "position": {
    "height": "722px",
    "left": "1550px",
    "right": "20px",
    "top": "121px",
    "width": "353px"
   },
   "types_to_exclude": [
    "module",
    "function",
    "builtin_function_or_method",
    "instance",
    "_Feature"
   ],
   "window_display": false
  },
  "vscode": {
   "interpreter": {
    "hash": "31f2aee4e71d21fbe5cf8b01ff0e069b9275f58929596ceb00d14d90e3e16cd6"
   }
  }
 },
 "nbformat": 4,
 "nbformat_minor": 4
}
